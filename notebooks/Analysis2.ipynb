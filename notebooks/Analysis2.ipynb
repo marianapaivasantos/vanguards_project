{
 "cells": [
  {
   "cell_type": "code",
   "execution_count": 1,
   "id": "c97d518e-af6e-430d-811b-84f6aac7498e",
   "metadata": {},
   "outputs": [],
   "source": [
    "import pandas as pd\n",
    "import matplotlib.pyplot as plt\n",
    "import seaborn as sns\n",
    "import numpy as np\n",
    "\n",
    "%matplotlib inline"
   ]
  },
  {
   "cell_type": "code",
   "execution_count": 2,
   "id": "b30ca23d-7974-458b-b23d-acc278673270",
   "metadata": {},
   "outputs": [],
   "source": [
    "df_demo = pd.read_csv('../data/raw/df_final_demo.csv')\n",
    "df_exp_clients = pd.read_csv('../data/raw/df_final_experiment_clients.csv')\n",
    "df_web_data1 = pd.read_csv('../data/raw/df_final_web_data_pt_1.csv')\n",
    "df_web_data2 = pd.read_csv('../data/raw/df_final_web_data_pt_2.csv')"
   ]
  },
  {
   "cell_type": "code",
   "execution_count": 3,
   "id": "3def1b64-282d-4b44-aebf-5a205d29c85f",
   "metadata": {},
   "outputs": [
    {
     "data": {
      "text/html": [
       "<div>\n",
       "<style scoped>\n",
       "    .dataframe tbody tr th:only-of-type {\n",
       "        vertical-align: middle;\n",
       "    }\n",
       "\n",
       "    .dataframe tbody tr th {\n",
       "        vertical-align: top;\n",
       "    }\n",
       "\n",
       "    .dataframe thead th {\n",
       "        text-align: right;\n",
       "    }\n",
       "</style>\n",
       "<table border=\"1\" class=\"dataframe\">\n",
       "  <thead>\n",
       "    <tr style=\"text-align: right;\">\n",
       "      <th></th>\n",
       "      <th>client_id</th>\n",
       "      <th>visitor_id</th>\n",
       "      <th>visit_id</th>\n",
       "      <th>process_step</th>\n",
       "      <th>date_time</th>\n",
       "    </tr>\n",
       "  </thead>\n",
       "  <tbody>\n",
       "    <tr>\n",
       "      <th>0</th>\n",
       "      <td>9988021</td>\n",
       "      <td>580560515_7732621733</td>\n",
       "      <td>781255054_21935453173_531117</td>\n",
       "      <td>step_3</td>\n",
       "      <td>2017-04-17 15:27:07</td>\n",
       "    </tr>\n",
       "    <tr>\n",
       "      <th>1</th>\n",
       "      <td>9988021</td>\n",
       "      <td>580560515_7732621733</td>\n",
       "      <td>781255054_21935453173_531117</td>\n",
       "      <td>step_2</td>\n",
       "      <td>2017-04-17 15:26:51</td>\n",
       "    </tr>\n",
       "    <tr>\n",
       "      <th>2</th>\n",
       "      <td>9988021</td>\n",
       "      <td>580560515_7732621733</td>\n",
       "      <td>781255054_21935453173_531117</td>\n",
       "      <td>step_3</td>\n",
       "      <td>2017-04-17 15:19:22</td>\n",
       "    </tr>\n",
       "    <tr>\n",
       "      <th>3</th>\n",
       "      <td>9988021</td>\n",
       "      <td>580560515_7732621733</td>\n",
       "      <td>781255054_21935453173_531117</td>\n",
       "      <td>step_2</td>\n",
       "      <td>2017-04-17 15:19:13</td>\n",
       "    </tr>\n",
       "    <tr>\n",
       "      <th>4</th>\n",
       "      <td>9988021</td>\n",
       "      <td>580560515_7732621733</td>\n",
       "      <td>781255054_21935453173_531117</td>\n",
       "      <td>step_3</td>\n",
       "      <td>2017-04-17 15:18:04</td>\n",
       "    </tr>\n",
       "    <tr>\n",
       "      <th>...</th>\n",
       "      <td>...</td>\n",
       "      <td>...</td>\n",
       "      <td>...</td>\n",
       "      <td>...</td>\n",
       "      <td>...</td>\n",
       "    </tr>\n",
       "    <tr>\n",
       "      <th>412259</th>\n",
       "      <td>9668240</td>\n",
       "      <td>388766751_9038881013</td>\n",
       "      <td>922267647_3096648104_968866</td>\n",
       "      <td>start</td>\n",
       "      <td>2017-05-24 18:46:10</td>\n",
       "    </tr>\n",
       "    <tr>\n",
       "      <th>412260</th>\n",
       "      <td>9668240</td>\n",
       "      <td>388766751_9038881013</td>\n",
       "      <td>922267647_3096648104_968866</td>\n",
       "      <td>start</td>\n",
       "      <td>2017-05-24 18:45:29</td>\n",
       "    </tr>\n",
       "    <tr>\n",
       "      <th>412261</th>\n",
       "      <td>9668240</td>\n",
       "      <td>388766751_9038881013</td>\n",
       "      <td>922267647_3096648104_968866</td>\n",
       "      <td>step_1</td>\n",
       "      <td>2017-05-24 18:44:51</td>\n",
       "    </tr>\n",
       "    <tr>\n",
       "      <th>412262</th>\n",
       "      <td>9668240</td>\n",
       "      <td>388766751_9038881013</td>\n",
       "      <td>922267647_3096648104_968866</td>\n",
       "      <td>start</td>\n",
       "      <td>2017-05-24 18:44:34</td>\n",
       "    </tr>\n",
       "    <tr>\n",
       "      <th>412263</th>\n",
       "      <td>674799</td>\n",
       "      <td>947159805_81558194550</td>\n",
       "      <td>86152093_47511127657_716022</td>\n",
       "      <td>start</td>\n",
       "      <td>2017-06-03 12:17:09</td>\n",
       "    </tr>\n",
       "  </tbody>\n",
       "</table>\n",
       "<p>755405 rows × 5 columns</p>\n",
       "</div>"
      ],
      "text/plain": [
       "        client_id             visitor_id                      visit_id  \\\n",
       "0         9988021   580560515_7732621733  781255054_21935453173_531117   \n",
       "1         9988021   580560515_7732621733  781255054_21935453173_531117   \n",
       "2         9988021   580560515_7732621733  781255054_21935453173_531117   \n",
       "3         9988021   580560515_7732621733  781255054_21935453173_531117   \n",
       "4         9988021   580560515_7732621733  781255054_21935453173_531117   \n",
       "...           ...                    ...                           ...   \n",
       "412259    9668240   388766751_9038881013   922267647_3096648104_968866   \n",
       "412260    9668240   388766751_9038881013   922267647_3096648104_968866   \n",
       "412261    9668240   388766751_9038881013   922267647_3096648104_968866   \n",
       "412262    9668240   388766751_9038881013   922267647_3096648104_968866   \n",
       "412263     674799  947159805_81558194550   86152093_47511127657_716022   \n",
       "\n",
       "       process_step            date_time  \n",
       "0            step_3  2017-04-17 15:27:07  \n",
       "1            step_2  2017-04-17 15:26:51  \n",
       "2            step_3  2017-04-17 15:19:22  \n",
       "3            step_2  2017-04-17 15:19:13  \n",
       "4            step_3  2017-04-17 15:18:04  \n",
       "...             ...                  ...  \n",
       "412259        start  2017-05-24 18:46:10  \n",
       "412260        start  2017-05-24 18:45:29  \n",
       "412261       step_1  2017-05-24 18:44:51  \n",
       "412262        start  2017-05-24 18:44:34  \n",
       "412263        start  2017-06-03 12:17:09  \n",
       "\n",
       "[755405 rows x 5 columns]"
      ]
     },
     "execution_count": 3,
     "metadata": {},
     "output_type": "execute_result"
    }
   ],
   "source": [
    "df_web_data = pd.concat([df_web_data1, df_web_data2])\n",
    "df_web_data"
   ]
  },
  {
   "cell_type": "code",
   "execution_count": 4,
   "id": "e8abc3d4-2a05-4ced-9ec9-fa2be12d8276",
   "metadata": {},
   "outputs": [],
   "source": [
    "df_final1 = pd.merge(df_web_data, df_exp_clients, how=\"left\", on=[\"client_id\", \"client_id\"])\n",
    "df_final = pd.merge(df_final1, df_demo, how=\"left\", on=[\"client_id\", \"client_id\"])"
   ]
  },
  {
   "cell_type": "code",
   "execution_count": 5,
   "id": "719c7316-f9fd-498f-aaa9-96acb3a3e1a3",
   "metadata": {},
   "outputs": [],
   "source": [
    "test_group = df_final[df_final['Variation'] == 'Test']\n",
    "control_group = df_final[df_final['Variation'] == 'Control']"
   ]
  },
  {
   "cell_type": "code",
   "execution_count": 6,
   "id": "9d969a9f-947c-4743-9e3d-51cbd1abcff2",
   "metadata": {},
   "outputs": [],
   "source": [
    "test_group_sorted = test_group.sort_values(by=['client_id', 'visitor_id', 'visit_id', 'process_step', 'date_time'])\n",
    "\n",
    "control_group_sorted = control_group.sort_values(by=['client_id', 'visitor_id', 'visit_id', 'process_step', 'date_time'])"
   ]
  },
  {
   "cell_type": "code",
   "execution_count": 7,
   "id": "4ebe532b-98c7-4d4d-a5f6-90329d8f0963",
   "metadata": {},
   "outputs": [],
   "source": [
    "test_group_sorted.dropna(inplace=True)\n",
    "test_group_sorted.reset_index(drop=True, inplace=True)\n",
    "\n",
    "control_group_sorted.dropna(inplace=True)\n",
    "control_group_sorted.reset_index(drop=True, inplace=True)"
   ]
  },
  {
   "cell_type": "code",
   "execution_count": 8,
   "id": "be7bb5eb-46d2-4e69-9c9e-72d127e3394f",
   "metadata": {},
   "outputs": [
    {
     "data": {
      "text/html": [
       "<div>\n",
       "<style scoped>\n",
       "    .dataframe tbody tr th:only-of-type {\n",
       "        vertical-align: middle;\n",
       "    }\n",
       "\n",
       "    .dataframe tbody tr th {\n",
       "        vertical-align: top;\n",
       "    }\n",
       "\n",
       "    .dataframe thead th {\n",
       "        text-align: right;\n",
       "    }\n",
       "</style>\n",
       "<table border=\"1\" class=\"dataframe\">\n",
       "  <thead>\n",
       "    <tr style=\"text-align: right;\">\n",
       "      <th></th>\n",
       "      <th>client_id</th>\n",
       "      <th>visitor_id</th>\n",
       "      <th>visit_id</th>\n",
       "      <th>process_step</th>\n",
       "      <th>date_time</th>\n",
       "      <th>Variation</th>\n",
       "      <th>clnt_tenure_yr</th>\n",
       "      <th>clnt_tenure_mnth</th>\n",
       "      <th>clnt_age</th>\n",
       "      <th>gendr</th>\n",
       "      <th>num_accts</th>\n",
       "      <th>bal</th>\n",
       "      <th>calls_6_mnth</th>\n",
       "      <th>logons_6_mnth</th>\n",
       "    </tr>\n",
       "  </thead>\n",
       "  <tbody>\n",
       "    <tr>\n",
       "      <th>0</th>\n",
       "      <td>555</td>\n",
       "      <td>402506806_56087378777</td>\n",
       "      <td>637149525_38041617439_716659</td>\n",
       "      <td>confirm</td>\n",
       "      <td>2017-04-15 13:00:34</td>\n",
       "      <td>Test</td>\n",
       "      <td>3.0</td>\n",
       "      <td>46.0</td>\n",
       "      <td>29.5</td>\n",
       "      <td>U</td>\n",
       "      <td>2.0</td>\n",
       "      <td>25454.66</td>\n",
       "      <td>2.0</td>\n",
       "      <td>6.0</td>\n",
       "    </tr>\n",
       "    <tr>\n",
       "      <th>1</th>\n",
       "      <td>555</td>\n",
       "      <td>402506806_56087378777</td>\n",
       "      <td>637149525_38041617439_716659</td>\n",
       "      <td>start</td>\n",
       "      <td>2017-04-15 12:57:56</td>\n",
       "      <td>Test</td>\n",
       "      <td>3.0</td>\n",
       "      <td>46.0</td>\n",
       "      <td>29.5</td>\n",
       "      <td>U</td>\n",
       "      <td>2.0</td>\n",
       "      <td>25454.66</td>\n",
       "      <td>2.0</td>\n",
       "      <td>6.0</td>\n",
       "    </tr>\n",
       "    <tr>\n",
       "      <th>2</th>\n",
       "      <td>555</td>\n",
       "      <td>402506806_56087378777</td>\n",
       "      <td>637149525_38041617439_716659</td>\n",
       "      <td>step_1</td>\n",
       "      <td>2017-04-15 12:58:03</td>\n",
       "      <td>Test</td>\n",
       "      <td>3.0</td>\n",
       "      <td>46.0</td>\n",
       "      <td>29.5</td>\n",
       "      <td>U</td>\n",
       "      <td>2.0</td>\n",
       "      <td>25454.66</td>\n",
       "      <td>2.0</td>\n",
       "      <td>6.0</td>\n",
       "    </tr>\n",
       "    <tr>\n",
       "      <th>3</th>\n",
       "      <td>555</td>\n",
       "      <td>402506806_56087378777</td>\n",
       "      <td>637149525_38041617439_716659</td>\n",
       "      <td>step_2</td>\n",
       "      <td>2017-04-15 12:58:35</td>\n",
       "      <td>Test</td>\n",
       "      <td>3.0</td>\n",
       "      <td>46.0</td>\n",
       "      <td>29.5</td>\n",
       "      <td>U</td>\n",
       "      <td>2.0</td>\n",
       "      <td>25454.66</td>\n",
       "      <td>2.0</td>\n",
       "      <td>6.0</td>\n",
       "    </tr>\n",
       "    <tr>\n",
       "      <th>4</th>\n",
       "      <td>555</td>\n",
       "      <td>402506806_56087378777</td>\n",
       "      <td>637149525_38041617439_716659</td>\n",
       "      <td>step_3</td>\n",
       "      <td>2017-04-15 13:00:14</td>\n",
       "      <td>Test</td>\n",
       "      <td>3.0</td>\n",
       "      <td>46.0</td>\n",
       "      <td>29.5</td>\n",
       "      <td>U</td>\n",
       "      <td>2.0</td>\n",
       "      <td>25454.66</td>\n",
       "      <td>2.0</td>\n",
       "      <td>6.0</td>\n",
       "    </tr>\n",
       "    <tr>\n",
       "      <th>...</th>\n",
       "      <td>...</td>\n",
       "      <td>...</td>\n",
       "      <td>...</td>\n",
       "      <td>...</td>\n",
       "      <td>...</td>\n",
       "      <td>...</td>\n",
       "      <td>...</td>\n",
       "      <td>...</td>\n",
       "      <td>...</td>\n",
       "      <td>...</td>\n",
       "      <td>...</td>\n",
       "      <td>...</td>\n",
       "      <td>...</td>\n",
       "      <td>...</td>\n",
       "    </tr>\n",
       "    <tr>\n",
       "      <th>177782</th>\n",
       "      <td>9999729</td>\n",
       "      <td>843385170_36953471821</td>\n",
       "      <td>493310979_9209676464_421146</td>\n",
       "      <td>start</td>\n",
       "      <td>2017-04-20 14:28:57</td>\n",
       "      <td>Test</td>\n",
       "      <td>10.0</td>\n",
       "      <td>124.0</td>\n",
       "      <td>31.0</td>\n",
       "      <td>F</td>\n",
       "      <td>3.0</td>\n",
       "      <td>107059.74</td>\n",
       "      <td>6.0</td>\n",
       "      <td>9.0</td>\n",
       "    </tr>\n",
       "    <tr>\n",
       "      <th>177783</th>\n",
       "      <td>9999729</td>\n",
       "      <td>843385170_36953471821</td>\n",
       "      <td>493310979_9209676464_421146</td>\n",
       "      <td>step_1</td>\n",
       "      <td>2017-04-20 14:22:49</td>\n",
       "      <td>Test</td>\n",
       "      <td>10.0</td>\n",
       "      <td>124.0</td>\n",
       "      <td>31.0</td>\n",
       "      <td>F</td>\n",
       "      <td>3.0</td>\n",
       "      <td>107059.74</td>\n",
       "      <td>6.0</td>\n",
       "      <td>9.0</td>\n",
       "    </tr>\n",
       "    <tr>\n",
       "      <th>177784</th>\n",
       "      <td>9999729</td>\n",
       "      <td>843385170_36953471821</td>\n",
       "      <td>493310979_9209676464_421146</td>\n",
       "      <td>step_2</td>\n",
       "      <td>2017-04-20 14:27:36</td>\n",
       "      <td>Test</td>\n",
       "      <td>10.0</td>\n",
       "      <td>124.0</td>\n",
       "      <td>31.0</td>\n",
       "      <td>F</td>\n",
       "      <td>3.0</td>\n",
       "      <td>107059.74</td>\n",
       "      <td>6.0</td>\n",
       "      <td>9.0</td>\n",
       "    </tr>\n",
       "    <tr>\n",
       "      <th>177785</th>\n",
       "      <td>9999832</td>\n",
       "      <td>145538019_54444341400</td>\n",
       "      <td>472154369_16714624241_585315</td>\n",
       "      <td>start</td>\n",
       "      <td>2017-05-16 16:46:03</td>\n",
       "      <td>Test</td>\n",
       "      <td>23.0</td>\n",
       "      <td>281.0</td>\n",
       "      <td>49.0</td>\n",
       "      <td>F</td>\n",
       "      <td>2.0</td>\n",
       "      <td>431887.61</td>\n",
       "      <td>1.0</td>\n",
       "      <td>4.0</td>\n",
       "    </tr>\n",
       "    <tr>\n",
       "      <th>177786</th>\n",
       "      <td>9999832</td>\n",
       "      <td>145538019_54444341400</td>\n",
       "      <td>472154369_16714624241_585315</td>\n",
       "      <td>step_1</td>\n",
       "      <td>2017-05-16 16:46:11</td>\n",
       "      <td>Test</td>\n",
       "      <td>23.0</td>\n",
       "      <td>281.0</td>\n",
       "      <td>49.0</td>\n",
       "      <td>F</td>\n",
       "      <td>2.0</td>\n",
       "      <td>431887.61</td>\n",
       "      <td>1.0</td>\n",
       "      <td>4.0</td>\n",
       "    </tr>\n",
       "  </tbody>\n",
       "</table>\n",
       "<p>177787 rows × 14 columns</p>\n",
       "</div>"
      ],
      "text/plain": [
       "        client_id             visitor_id                      visit_id  \\\n",
       "0             555  402506806_56087378777  637149525_38041617439_716659   \n",
       "1             555  402506806_56087378777  637149525_38041617439_716659   \n",
       "2             555  402506806_56087378777  637149525_38041617439_716659   \n",
       "3             555  402506806_56087378777  637149525_38041617439_716659   \n",
       "4             555  402506806_56087378777  637149525_38041617439_716659   \n",
       "...           ...                    ...                           ...   \n",
       "177782    9999729  843385170_36953471821   493310979_9209676464_421146   \n",
       "177783    9999729  843385170_36953471821   493310979_9209676464_421146   \n",
       "177784    9999729  843385170_36953471821   493310979_9209676464_421146   \n",
       "177785    9999832  145538019_54444341400  472154369_16714624241_585315   \n",
       "177786    9999832  145538019_54444341400  472154369_16714624241_585315   \n",
       "\n",
       "       process_step            date_time Variation  clnt_tenure_yr  \\\n",
       "0           confirm  2017-04-15 13:00:34      Test             3.0   \n",
       "1             start  2017-04-15 12:57:56      Test             3.0   \n",
       "2            step_1  2017-04-15 12:58:03      Test             3.0   \n",
       "3            step_2  2017-04-15 12:58:35      Test             3.0   \n",
       "4            step_3  2017-04-15 13:00:14      Test             3.0   \n",
       "...             ...                  ...       ...             ...   \n",
       "177782        start  2017-04-20 14:28:57      Test            10.0   \n",
       "177783       step_1  2017-04-20 14:22:49      Test            10.0   \n",
       "177784       step_2  2017-04-20 14:27:36      Test            10.0   \n",
       "177785        start  2017-05-16 16:46:03      Test            23.0   \n",
       "177786       step_1  2017-05-16 16:46:11      Test            23.0   \n",
       "\n",
       "        clnt_tenure_mnth  clnt_age gendr  num_accts        bal  calls_6_mnth  \\\n",
       "0                   46.0      29.5     U        2.0   25454.66           2.0   \n",
       "1                   46.0      29.5     U        2.0   25454.66           2.0   \n",
       "2                   46.0      29.5     U        2.0   25454.66           2.0   \n",
       "3                   46.0      29.5     U        2.0   25454.66           2.0   \n",
       "4                   46.0      29.5     U        2.0   25454.66           2.0   \n",
       "...                  ...       ...   ...        ...        ...           ...   \n",
       "177782             124.0      31.0     F        3.0  107059.74           6.0   \n",
       "177783             124.0      31.0     F        3.0  107059.74           6.0   \n",
       "177784             124.0      31.0     F        3.0  107059.74           6.0   \n",
       "177785             281.0      49.0     F        2.0  431887.61           1.0   \n",
       "177786             281.0      49.0     F        2.0  431887.61           1.0   \n",
       "\n",
       "        logons_6_mnth  \n",
       "0                 6.0  \n",
       "1                 6.0  \n",
       "2                 6.0  \n",
       "3                 6.0  \n",
       "4                 6.0  \n",
       "...               ...  \n",
       "177782            9.0  \n",
       "177783            9.0  \n",
       "177784            9.0  \n",
       "177785            4.0  \n",
       "177786            4.0  \n",
       "\n",
       "[177787 rows x 14 columns]"
      ]
     },
     "execution_count": 8,
     "metadata": {},
     "output_type": "execute_result"
    }
   ],
   "source": [
    "test_group_sorted"
   ]
  },
  {
   "cell_type": "code",
   "execution_count": 9,
   "id": "eaab0831-2355-404f-908f-4fc7308244ce",
   "metadata": {},
   "outputs": [
    {
     "data": {
      "text/html": [
       "<div>\n",
       "<style scoped>\n",
       "    .dataframe tbody tr th:only-of-type {\n",
       "        vertical-align: middle;\n",
       "    }\n",
       "\n",
       "    .dataframe tbody tr th {\n",
       "        vertical-align: top;\n",
       "    }\n",
       "\n",
       "    .dataframe thead th {\n",
       "        text-align: right;\n",
       "    }\n",
       "</style>\n",
       "<table border=\"1\" class=\"dataframe\">\n",
       "  <thead>\n",
       "    <tr style=\"text-align: right;\">\n",
       "      <th></th>\n",
       "      <th>client_id</th>\n",
       "      <th>visitor_id</th>\n",
       "      <th>visit_id</th>\n",
       "      <th>process_step</th>\n",
       "      <th>date_time</th>\n",
       "      <th>Variation</th>\n",
       "      <th>clnt_tenure_yr</th>\n",
       "      <th>clnt_tenure_mnth</th>\n",
       "      <th>clnt_age</th>\n",
       "      <th>gendr</th>\n",
       "      <th>num_accts</th>\n",
       "      <th>bal</th>\n",
       "      <th>calls_6_mnth</th>\n",
       "      <th>logons_6_mnth</th>\n",
       "    </tr>\n",
       "  </thead>\n",
       "  <tbody>\n",
       "    <tr>\n",
       "      <th>0</th>\n",
       "      <td>1028</td>\n",
       "      <td>42237450_62128060588</td>\n",
       "      <td>557292053_87239438319_391157</td>\n",
       "      <td>start</td>\n",
       "      <td>2017-04-08 18:51:28</td>\n",
       "      <td>Control</td>\n",
       "      <td>12.0</td>\n",
       "      <td>145.0</td>\n",
       "      <td>36.0</td>\n",
       "      <td>M</td>\n",
       "      <td>3.0</td>\n",
       "      <td>103520.22</td>\n",
       "      <td>1.0</td>\n",
       "      <td>4.0</td>\n",
       "    </tr>\n",
       "    <tr>\n",
       "      <th>1</th>\n",
       "      <td>1028</td>\n",
       "      <td>42237450_62128060588</td>\n",
       "      <td>557292053_87239438319_391157</td>\n",
       "      <td>step_1</td>\n",
       "      <td>2017-04-08 18:52:17</td>\n",
       "      <td>Control</td>\n",
       "      <td>12.0</td>\n",
       "      <td>145.0</td>\n",
       "      <td>36.0</td>\n",
       "      <td>M</td>\n",
       "      <td>3.0</td>\n",
       "      <td>103520.22</td>\n",
       "      <td>1.0</td>\n",
       "      <td>4.0</td>\n",
       "    </tr>\n",
       "    <tr>\n",
       "      <th>2</th>\n",
       "      <td>1028</td>\n",
       "      <td>42237450_62128060588</td>\n",
       "      <td>557292053_87239438319_391157</td>\n",
       "      <td>step_1</td>\n",
       "      <td>2017-04-08 18:53:20</td>\n",
       "      <td>Control</td>\n",
       "      <td>12.0</td>\n",
       "      <td>145.0</td>\n",
       "      <td>36.0</td>\n",
       "      <td>M</td>\n",
       "      <td>3.0</td>\n",
       "      <td>103520.22</td>\n",
       "      <td>1.0</td>\n",
       "      <td>4.0</td>\n",
       "    </tr>\n",
       "    <tr>\n",
       "      <th>3</th>\n",
       "      <td>1028</td>\n",
       "      <td>42237450_62128060588</td>\n",
       "      <td>557292053_87239438319_391157</td>\n",
       "      <td>step_1</td>\n",
       "      <td>2017-04-08 18:59:55</td>\n",
       "      <td>Control</td>\n",
       "      <td>12.0</td>\n",
       "      <td>145.0</td>\n",
       "      <td>36.0</td>\n",
       "      <td>M</td>\n",
       "      <td>3.0</td>\n",
       "      <td>103520.22</td>\n",
       "      <td>1.0</td>\n",
       "      <td>4.0</td>\n",
       "    </tr>\n",
       "    <tr>\n",
       "      <th>4</th>\n",
       "      <td>1028</td>\n",
       "      <td>42237450_62128060588</td>\n",
       "      <td>557292053_87239438319_391157</td>\n",
       "      <td>step_1</td>\n",
       "      <td>2017-04-08 19:00:15</td>\n",
       "      <td>Control</td>\n",
       "      <td>12.0</td>\n",
       "      <td>145.0</td>\n",
       "      <td>36.0</td>\n",
       "      <td>M</td>\n",
       "      <td>3.0</td>\n",
       "      <td>103520.22</td>\n",
       "      <td>1.0</td>\n",
       "      <td>4.0</td>\n",
       "    </tr>\n",
       "    <tr>\n",
       "      <th>...</th>\n",
       "      <td>...</td>\n",
       "      <td>...</td>\n",
       "      <td>...</td>\n",
       "      <td>...</td>\n",
       "      <td>...</td>\n",
       "      <td>...</td>\n",
       "      <td>...</td>\n",
       "      <td>...</td>\n",
       "      <td>...</td>\n",
       "      <td>...</td>\n",
       "      <td>...</td>\n",
       "      <td>...</td>\n",
       "      <td>...</td>\n",
       "      <td>...</td>\n",
       "    </tr>\n",
       "    <tr>\n",
       "      <th>143403</th>\n",
       "      <td>9998346</td>\n",
       "      <td>292425655_16607136645</td>\n",
       "      <td>189177304_69869411700_783154</td>\n",
       "      <td>step_3</td>\n",
       "      <td>2017-03-29 15:28:00</td>\n",
       "      <td>Control</td>\n",
       "      <td>50.0</td>\n",
       "      <td>602.0</td>\n",
       "      <td>61.5</td>\n",
       "      <td>F</td>\n",
       "      <td>2.0</td>\n",
       "      <td>149881.38</td>\n",
       "      <td>6.0</td>\n",
       "      <td>9.0</td>\n",
       "    </tr>\n",
       "    <tr>\n",
       "      <th>143404</th>\n",
       "      <td>9998346</td>\n",
       "      <td>292425655_16607136645</td>\n",
       "      <td>189177304_69869411700_783154</td>\n",
       "      <td>step_3</td>\n",
       "      <td>2017-03-29 15:30:25</td>\n",
       "      <td>Control</td>\n",
       "      <td>50.0</td>\n",
       "      <td>602.0</td>\n",
       "      <td>61.5</td>\n",
       "      <td>F</td>\n",
       "      <td>2.0</td>\n",
       "      <td>149881.38</td>\n",
       "      <td>6.0</td>\n",
       "      <td>9.0</td>\n",
       "    </tr>\n",
       "    <tr>\n",
       "      <th>143405</th>\n",
       "      <td>9998346</td>\n",
       "      <td>292425655_16607136645</td>\n",
       "      <td>189177304_69869411700_783154</td>\n",
       "      <td>step_3</td>\n",
       "      <td>2017-03-29 15:37:28</td>\n",
       "      <td>Control</td>\n",
       "      <td>50.0</td>\n",
       "      <td>602.0</td>\n",
       "      <td>61.5</td>\n",
       "      <td>F</td>\n",
       "      <td>2.0</td>\n",
       "      <td>149881.38</td>\n",
       "      <td>6.0</td>\n",
       "      <td>9.0</td>\n",
       "    </tr>\n",
       "    <tr>\n",
       "      <th>143406</th>\n",
       "      <td>9998346</td>\n",
       "      <td>292425655_16607136645</td>\n",
       "      <td>189177304_69869411700_783154</td>\n",
       "      <td>step_3</td>\n",
       "      <td>2017-03-29 15:37:28</td>\n",
       "      <td>Control</td>\n",
       "      <td>50.0</td>\n",
       "      <td>602.0</td>\n",
       "      <td>61.5</td>\n",
       "      <td>F</td>\n",
       "      <td>2.0</td>\n",
       "      <td>149881.38</td>\n",
       "      <td>6.0</td>\n",
       "      <td>9.0</td>\n",
       "    </tr>\n",
       "    <tr>\n",
       "      <th>143407</th>\n",
       "      <td>9998921</td>\n",
       "      <td>960034051_85687824805</td>\n",
       "      <td>378424178_59565976155_8051</td>\n",
       "      <td>start</td>\n",
       "      <td>2017-04-18 11:26:31</td>\n",
       "      <td>Control</td>\n",
       "      <td>15.0</td>\n",
       "      <td>189.0</td>\n",
       "      <td>38.0</td>\n",
       "      <td>F</td>\n",
       "      <td>2.0</td>\n",
       "      <td>30644.10</td>\n",
       "      <td>4.0</td>\n",
       "      <td>7.0</td>\n",
       "    </tr>\n",
       "  </tbody>\n",
       "</table>\n",
       "<p>143408 rows × 14 columns</p>\n",
       "</div>"
      ],
      "text/plain": [
       "        client_id             visitor_id                      visit_id  \\\n",
       "0            1028   42237450_62128060588  557292053_87239438319_391157   \n",
       "1            1028   42237450_62128060588  557292053_87239438319_391157   \n",
       "2            1028   42237450_62128060588  557292053_87239438319_391157   \n",
       "3            1028   42237450_62128060588  557292053_87239438319_391157   \n",
       "4            1028   42237450_62128060588  557292053_87239438319_391157   \n",
       "...           ...                    ...                           ...   \n",
       "143403    9998346  292425655_16607136645  189177304_69869411700_783154   \n",
       "143404    9998346  292425655_16607136645  189177304_69869411700_783154   \n",
       "143405    9998346  292425655_16607136645  189177304_69869411700_783154   \n",
       "143406    9998346  292425655_16607136645  189177304_69869411700_783154   \n",
       "143407    9998921  960034051_85687824805    378424178_59565976155_8051   \n",
       "\n",
       "       process_step            date_time Variation  clnt_tenure_yr  \\\n",
       "0             start  2017-04-08 18:51:28   Control            12.0   \n",
       "1            step_1  2017-04-08 18:52:17   Control            12.0   \n",
       "2            step_1  2017-04-08 18:53:20   Control            12.0   \n",
       "3            step_1  2017-04-08 18:59:55   Control            12.0   \n",
       "4            step_1  2017-04-08 19:00:15   Control            12.0   \n",
       "...             ...                  ...       ...             ...   \n",
       "143403       step_3  2017-03-29 15:28:00   Control            50.0   \n",
       "143404       step_3  2017-03-29 15:30:25   Control            50.0   \n",
       "143405       step_3  2017-03-29 15:37:28   Control            50.0   \n",
       "143406       step_3  2017-03-29 15:37:28   Control            50.0   \n",
       "143407        start  2017-04-18 11:26:31   Control            15.0   \n",
       "\n",
       "        clnt_tenure_mnth  clnt_age gendr  num_accts        bal  calls_6_mnth  \\\n",
       "0                  145.0      36.0     M        3.0  103520.22           1.0   \n",
       "1                  145.0      36.0     M        3.0  103520.22           1.0   \n",
       "2                  145.0      36.0     M        3.0  103520.22           1.0   \n",
       "3                  145.0      36.0     M        3.0  103520.22           1.0   \n",
       "4                  145.0      36.0     M        3.0  103520.22           1.0   \n",
       "...                  ...       ...   ...        ...        ...           ...   \n",
       "143403             602.0      61.5     F        2.0  149881.38           6.0   \n",
       "143404             602.0      61.5     F        2.0  149881.38           6.0   \n",
       "143405             602.0      61.5     F        2.0  149881.38           6.0   \n",
       "143406             602.0      61.5     F        2.0  149881.38           6.0   \n",
       "143407             189.0      38.0     F        2.0   30644.10           4.0   \n",
       "\n",
       "        logons_6_mnth  \n",
       "0                 4.0  \n",
       "1                 4.0  \n",
       "2                 4.0  \n",
       "3                 4.0  \n",
       "4                 4.0  \n",
       "...               ...  \n",
       "143403            9.0  \n",
       "143404            9.0  \n",
       "143405            9.0  \n",
       "143406            9.0  \n",
       "143407            7.0  \n",
       "\n",
       "[143408 rows x 14 columns]"
      ]
     },
     "execution_count": 9,
     "metadata": {},
     "output_type": "execute_result"
    }
   ],
   "source": [
    "control_group_sorted"
   ]
  },
  {
   "cell_type": "code",
   "execution_count": 10,
   "id": "8824d6e1-56a1-494c-acb5-deb9ea3b6861",
   "metadata": {},
   "outputs": [],
   "source": [
    "df_id_test_group = test_group_sorted.drop_duplicates('client_id')\n",
    "df_id_control_group = control_group_sorted.drop_duplicates('client_id')"
   ]
  },
  {
   "cell_type": "code",
   "execution_count": 11,
   "id": "c9b7815c-0c7c-4603-a36f-113897dde4d9",
   "metadata": {},
   "outputs": [
    {
     "data": {
      "text/plain": [
       "gendr\n",
       "U    9266\n",
       "M    8977\n",
       "F    8716\n",
       "X       2\n",
       "Name: count, dtype: int64"
      ]
     },
     "execution_count": 11,
     "metadata": {},
     "output_type": "execute_result"
    }
   ],
   "source": [
    "df_id_test_group['gendr'].value_counts()"
   ]
  },
  {
   "cell_type": "code",
   "execution_count": 12,
   "id": "cdced4f2-43f5-4a18-b6c6-83f7e8d03ba3",
   "metadata": {},
   "outputs": [
    {
     "data": {
      "text/plain": [
       "gendr\n",
       "U    8014\n",
       "M    7970\n",
       "F    7542\n",
       "Name: count, dtype: int64"
      ]
     },
     "execution_count": 12,
     "metadata": {},
     "output_type": "execute_result"
    }
   ],
   "source": [
    "df_id_control_group['gendr'].value_counts()"
   ]
  },
  {
   "cell_type": "code",
   "execution_count": 13,
   "id": "563e4bc5-1184-4936-9d57-fe5c8dd6102a",
   "metadata": {},
   "outputs": [
    {
     "data": {
      "text/plain": [
       "num_accts\n",
       "2.0    21310\n",
       "3.0     4696\n",
       "4.0      840\n",
       "5.0       97\n",
       "6.0       13\n",
       "7.0        4\n",
       "1.0        1\n",
       "Name: count, dtype: int64"
      ]
     },
     "execution_count": 13,
     "metadata": {},
     "output_type": "execute_result"
    }
   ],
   "source": [
    "df_id_test_group['num_accts'].value_counts()"
   ]
  },
  {
   "cell_type": "code",
   "execution_count": 14,
   "id": "cd26dd9c-6c6c-4ae7-9379-1de593de45bb",
   "metadata": {},
   "outputs": [
    {
     "data": {
      "text/plain": [
       "num_accts\n",
       "2.0    18410\n",
       "3.0     4251\n",
       "4.0      745\n",
       "5.0      108\n",
       "6.0       10\n",
       "7.0        2\n",
       "Name: count, dtype: int64"
      ]
     },
     "execution_count": 14,
     "metadata": {},
     "output_type": "execute_result"
    }
   ],
   "source": [
    "df_id_control_group['num_accts'].value_counts()"
   ]
  },
  {
   "cell_type": "code",
   "execution_count": 15,
   "id": "d31af7f9-751a-4890-8bdb-64868ff5dddc",
   "metadata": {},
   "outputs": [
    {
     "data": {
      "image/png": "[encoded data removed]",
      "text/plain": [
       "<Figure size 640x480 with 1 Axes>"
      ]
     },
     "metadata": {},
     "output_type": "display_data"
    }
   ],
   "source": [
    "counts = df_id_test_group['num_accts'].value_counts()\n",
    "counts.plot(kind='bar', color='skyblue') \n",
    "plt.title('Number of Accounts Distribution - Test Group')\n",
    "plt.xlabel('Number of Accounts')\n",
    "plt.ylabel('Count')\n",
    "plt.xticks(rotation=0)\n",
    "plt.show()"
   ]
  },
  {
   "cell_type": "code",
   "execution_count": 16,
   "id": "08aa9d77-7056-4c8f-ab86-c5459d49497b",
   "metadata": {},
   "outputs": [
    {
     "data": {
      "image/png": "[encoded data removed]",
      "text/plain": [
       "<Figure size 640x480 with 1 Axes>"
      ]
     },
     "metadata": {},
     "output_type": "display_data"
    }
   ],
   "source": [
    "counts = df_id_control_group['num_accts'].value_counts()\n",
    "counts.plot(kind='bar', color='green') \n",
    "plt.title('Number of Accounts Distribution - Control Group')\n",
    "plt.xlabel('Number of Accounts')\n",
    "plt.ylabel('Count')\n",
    "plt.xticks(rotation=0)\n",
    "plt.show()"
   ]
  },
  {
   "cell_type": "code",
   "execution_count": 17,
   "id": "d6c7b208-4ac8-483c-921b-83f202298a43",
   "metadata": {},
   "outputs": [
    {
     "data": {
      "text/plain": [
       "calls_6_mnth\n",
       "6.0    6430\n",
       "1.0    4316\n",
       "0.0    4241\n",
       "2.0    3763\n",
       "3.0    3169\n",
       "4.0    2586\n",
       "5.0    2456\n",
       "Name: count, dtype: int64"
      ]
     },
     "execution_count": 17,
     "metadata": {},
     "output_type": "execute_result"
    }
   ],
   "source": [
    "df_id_test_group['calls_6_mnth'].value_counts()"
   ]
  },
  {
   "cell_type": "code",
   "execution_count": 18,
   "id": "e4a2ef9e-c6dc-4131-a073-b0d3a6694d2d",
   "metadata": {},
   "outputs": [
    {
     "data": {
      "text/plain": [
       "calls_6_mnth\n",
       "6.0    5795\n",
       "1.0    3592\n",
       "0.0    3491\n",
       "2.0    3452\n",
       "3.0    2684\n",
       "4.0    2261\n",
       "5.0    2251\n",
       "Name: count, dtype: int64"
      ]
     },
     "execution_count": 18,
     "metadata": {},
     "output_type": "execute_result"
    }
   ],
   "source": [
    "df_id_control_group['calls_6_mnth'].value_counts()"
   ]
  },
  {
   "cell_type": "code",
   "execution_count": 19,
   "id": "8bdc5b5f-6a72-4090-8f56-4e299ae8aea1",
   "metadata": {},
   "outputs": [
    {
     "data": {
      "image/png": "[encoded data removed]",
      "text/plain": [
       "<Figure size 640x480 with 1 Axes>"
      ]
     },
     "metadata": {},
     "output_type": "display_data"
    }
   ],
   "source": [
    "counts = df_id_test_group['calls_6_mnth'].value_counts()\n",
    "counts.plot(kind='bar', color='skyblue') \n",
    "plt.title('Number of Calls on the last 6 months - Test Group')\n",
    "plt.xlabel('Number of Calls')\n",
    "plt.ylabel('Count')\n",
    "plt.xticks(rotation=0)\n",
    "plt.show()"
   ]
  },
  {
   "cell_type": "code",
   "execution_count": 20,
   "id": "30739d4e-7421-4c3a-80d1-8c95b99e2f6a",
   "metadata": {},
   "outputs": [
    {
     "data": {
      "image/png": "[encoded data removed]",
      "text/plain": [
       "<Figure size 640x480 with 1 Axes>"
      ]
     },
     "metadata": {},
     "output_type": "display_data"
    }
   ],
   "source": [
    "counts = df_id_control_group['calls_6_mnth'].value_counts()\n",
    "counts.plot(kind='bar', color='green') \n",
    "plt.title('Number of Calls on the last 6 months - Control Group')\n",
    "plt.xlabel('Number of Calls')\n",
    "plt.ylabel('Count')\n",
    "plt.xticks(rotation=0)\n",
    "plt.show()"
   ]
  },
  {
   "cell_type": "code",
   "execution_count": 21,
   "id": "ab79df26-925f-44c4-9728-c6705f7fe6ed",
   "metadata": {},
   "outputs": [
    {
     "data": {
      "text/plain": [
       "logons_6_mnth\n",
       "9.0    6491\n",
       "4.0    4302\n",
       "3.0    3993\n",
       "5.0    3803\n",
       "6.0    3233\n",
       "7.0    2619\n",
       "8.0    2520\n",
       "Name: count, dtype: int64"
      ]
     },
     "execution_count": 21,
     "metadata": {},
     "output_type": "execute_result"
    }
   ],
   "source": [
    "df_id_test_group['logons_6_mnth'].value_counts()"
   ]
  },
  {
   "cell_type": "code",
   "execution_count": 22,
   "id": "afeeee73-0c21-497d-9b4d-ccaeabba3cc9",
   "metadata": {},
   "outputs": [
    {
     "data": {
      "text/plain": [
       "logons_6_mnth\n",
       "9.0    5859\n",
       "4.0    3553\n",
       "5.0    3480\n",
       "3.0    3318\n",
       "6.0    2732\n",
       "7.0    2294\n",
       "8.0    2290\n",
       "Name: count, dtype: int64"
      ]
     },
     "execution_count": 22,
     "metadata": {},
     "output_type": "execute_result"
    }
   ],
   "source": [
    "df_id_control_group['logons_6_mnth'].value_counts()"
   ]
  },
  {
   "cell_type": "code",
   "execution_count": 23,
   "id": "aceef59a-9191-4ab3-80fd-98a7e11b45c9",
   "metadata": {},
   "outputs": [
    {
     "data": {
      "image/png": "[encoded data removed]",
      "text/plain": [
       "<Figure size 640x480 with 1 Axes>"
      ]
     },
     "metadata": {},
     "output_type": "display_data"
    }
   ],
   "source": [
    "counts = df_id_test_group['logons_6_mnth'].value_counts()\n",
    "counts.plot(kind='bar', color='skyblue') \n",
    "plt.title('Number of Log Ons on the last 6 months - Test Group')\n",
    "plt.xlabel('Number of Log Ons')\n",
    "plt.ylabel('Count')\n",
    "plt.xticks(rotation=0)\n",
    "plt.show()"
   ]
  },
  {
   "cell_type": "code",
   "execution_count": 24,
   "id": "581e7a7d-ff6b-4723-8d1c-a56c9f371be4",
   "metadata": {},
   "outputs": [
    {
     "data": {
      "image/png": "[encoded data removed]",
      "text/plain": [
       "<Figure size 640x480 with 1 Axes>"
      ]
     },
     "metadata": {},
     "output_type": "display_data"
    }
   ],
   "source": [
    "counts = df_id_control_group['logons_6_mnth'].value_counts()\n",
    "counts.plot(kind='bar', color='green') \n",
    "plt.title('Number of Log Ons on the last 6 months - Control Group')\n",
    "plt.xlabel('Number of Log Ons')\n",
    "plt.ylabel('Count')\n",
    "plt.xticks(rotation=0)\n",
    "plt.show()"
   ]
  },
  {
   "cell_type": "code",
   "execution_count": 25,
   "id": "b1583474-99f2-4596-8a40-1323733c1f01",
   "metadata": {},
   "outputs": [
    {
     "data": {
      "text/plain": [
       "clnt_age\n",
       "29.5    358\n",
       "31.5    353\n",
       "28.5    349\n",
       "27.5    349\n",
       "59.5    346\n",
       "       ... \n",
       "17.0      1\n",
       "96.0      1\n",
       "95.5      1\n",
       "93.0      1\n",
       "94.5      1\n",
       "Name: count, Length: 157, dtype: int64"
      ]
     },
     "execution_count": 25,
     "metadata": {},
     "output_type": "execute_result"
    }
   ],
   "source": [
    "frequency_table_test_group = df_id_test_group['clnt_age'].value_counts()\n",
    "frequency_table_test_group"
   ]
  },
  {
   "cell_type": "code",
   "execution_count": 26,
   "id": "92bb3c1b-fa7e-461e-9cc5-ef275d196262",
   "metadata": {},
   "outputs": [
    {
     "data": {
      "text/plain": [
       "clnt_age\n",
       "58.5    293\n",
       "57.0    289\n",
       "53.0    285\n",
       "55.5    279\n",
       "58.0    273\n",
       "       ... \n",
       "94.0      1\n",
       "90.5      1\n",
       "92.5      1\n",
       "91.5      1\n",
       "96.0      1\n",
       "Name: count, Length: 155, dtype: int64"
      ]
     },
     "execution_count": 26,
     "metadata": {},
     "output_type": "execute_result"
    }
   ],
   "source": [
    "frequency_table_control_group = df_id_control_group['clnt_age'].value_counts()\n",
    "frequency_table_control_group"
   ]
  },
  {
   "cell_type": "code",
   "execution_count": 27,
   "id": "c60fba58-e444-4d25-953d-20b6d0a5b483",
   "metadata": {
    "scrolled": true
   },
   "outputs": [
    {
     "name": "stderr",
     "output_type": "stream",
     "text": [
      "/var/folders/m4/f8dr8zj14vzfrxjhfypvc0400000gn/T/ipykernel_36246/1324070389.py:3: UserWarning: set_ticklabels() should only be used with a fixed number of ticks, i.e. after set_ticks() or using a FixedLocator.\n",
      "  my_plot_test_group.set_xticklabels(my_plot_test_group.get_xticklabels(), rotation=90)\n"
     ]
    },
    {
     "data": {
      "text/plain": [
       "[Text(0, 0, '17.0'),\n",
       " Text(1, 0, '17.5'),\n",
       " Text(2, 0, '18.0'),\n",
       " Text(3, 0, '18.5'),\n",
       " Text(4, 0, '19.0'),\n",
       " Text(5, 0, '19.5'),\n",
       " Text(6, 0, '20.0'),\n",
       " Text(7, 0, '20.5'),\n",
       " Text(8, 0, '21.0'),\n",
       " Text(9, 0, '21.5'),\n",
       " Text(10, 0, '22.0'),\n",
       " Text(11, 0, '22.5'),\n",
       " Text(12, 0, '23.0'),\n",
       " Text(13, 0, '23.5'),\n",
       " Text(14, 0, '24.0'),\n",
       " Text(15, 0, '24.5'),\n",
       " Text(16, 0, '25.0'),\n",
       " Text(17, 0, '25.5'),\n",
       " Text(18, 0, '26.0'),\n",
       " Text(19, 0, '26.5'),\n",
       " Text(20, 0, '27.0'),\n",
       " Text(21, 0, '27.5'),\n",
       " Text(22, 0, '28.0'),\n",
       " Text(23, 0, '28.5'),\n",
       " Text(24, 0, '29.0'),\n",
       " Text(25, 0, '29.5'),\n",
       " Text(26, 0, '30.0'),\n",
       " Text(27, 0, '30.5'),\n",
       " Text(28, 0, '31.0'),\n",
       " Text(29, 0, '31.5'),\n",
       " Text(30, 0, '32.0'),\n",
       " Text(31, 0, '32.5'),\n",
       " Text(32, 0, '33.0'),\n",
       " Text(33, 0, '33.5'),\n",
       " Text(34, 0, '34.0'),\n",
       " Text(35, 0, '34.5'),\n",
       " Text(36, 0, '35.0'),\n",
       " Text(37, 0, '35.5'),\n",
       " Text(38, 0, '36.0'),\n",
       " Text(39, 0, '36.5'),\n",
       " Text(40, 0, '37.0'),\n",
       " Text(41, 0, '37.5'),\n",
       " Text(42, 0, '38.0'),\n",
       " Text(43, 0, '38.5'),\n",
       " Text(44, 0, '39.0'),\n",
       " Text(45, 0, '39.5'),\n",
       " Text(46, 0, '40.0'),\n",
       " Text(47, 0, '40.5'),\n",
       " Text(48, 0, '41.0'),\n",
       " Text(49, 0, '41.5'),\n",
       " Text(50, 0, '42.0'),\n",
       " Text(51, 0, '42.5'),\n",
       " Text(52, 0, '43.0'),\n",
       " Text(53, 0, '43.5'),\n",
       " Text(54, 0, '44.0'),\n",
       " Text(55, 0, '44.5'),\n",
       " Text(56, 0, '45.0'),\n",
       " Text(57, 0, '45.5'),\n",
       " Text(58, 0, '46.0'),\n",
       " Text(59, 0, '46.5'),\n",
       " Text(60, 0, '47.0'),\n",
       " Text(61, 0, '47.5'),\n",
       " Text(62, 0, '48.0'),\n",
       " Text(63, 0, '48.5'),\n",
       " Text(64, 0, '49.0'),\n",
       " Text(65, 0, '49.5'),\n",
       " Text(66, 0, '50.0'),\n",
       " Text(67, 0, '50.5'),\n",
       " Text(68, 0, '51.0'),\n",
       " Text(69, 0, '51.5'),\n",
       " Text(70, 0, '52.0'),\n",
       " Text(71, 0, '52.5'),\n",
       " Text(72, 0, '53.0'),\n",
       " Text(73, 0, '53.5'),\n",
       " Text(74, 0, '54.0'),\n",
       " Text(75, 0, '54.5'),\n",
       " Text(76, 0, '55.0'),\n",
       " Text(77, 0, '55.5'),\n",
       " Text(78, 0, '56.0'),\n",
       " Text(79, 0, '56.5'),\n",
       " Text(80, 0, '57.0'),\n",
       " Text(81, 0, '57.5'),\n",
       " Text(82, 0, '58.0'),\n",
       " Text(83, 0, '58.5'),\n",
       " Text(84, 0, '59.0'),\n",
       " Text(85, 0, '59.5'),\n",
       " Text(86, 0, '60.0'),\n",
       " Text(87, 0, '60.5'),\n",
       " Text(88, 0, '61.0'),\n",
       " Text(89, 0, '61.5'),\n",
       " Text(90, 0, '62.0'),\n",
       " Text(91, 0, '62.5'),\n",
       " Text(92, 0, '63.0'),\n",
       " Text(93, 0, '63.5'),\n",
       " Text(94, 0, '64.0'),\n",
       " Text(95, 0, '64.5'),\n",
       " Text(96, 0, '65.0'),\n",
       " Text(97, 0, '65.5'),\n",
       " Text(98, 0, '66.0'),\n",
       " Text(99, 0, '66.5'),\n",
       " Text(100, 0, '67.0'),\n",
       " Text(101, 0, '67.5'),\n",
       " Text(102, 0, '68.0'),\n",
       " Text(103, 0, '68.5'),\n",
       " Text(104, 0, '69.0'),\n",
       " Text(105, 0, '69.5'),\n",
       " Text(106, 0, '70.0'),\n",
       " Text(107, 0, '70.5'),\n",
       " Text(108, 0, '71.0'),\n",
       " Text(109, 0, '71.5'),\n",
       " Text(110, 0, '72.0'),\n",
       " Text(111, 0, '72.5'),\n",
       " Text(112, 0, '73.0'),\n",
       " Text(113, 0, '73.5'),\n",
       " Text(114, 0, '74.0'),\n",
       " Text(115, 0, '74.5'),\n",
       " Text(116, 0, '75.0'),\n",
       " Text(117, 0, '75.5'),\n",
       " Text(118, 0, '76.0'),\n",
       " Text(119, 0, '76.5'),\n",
       " Text(120, 0, '77.0'),\n",
       " Text(121, 0, '77.5'),\n",
       " Text(122, 0, '78.0'),\n",
       " Text(123, 0, '78.5'),\n",
       " Text(124, 0, '79.0'),\n",
       " Text(125, 0, '79.5'),\n",
       " Text(126, 0, '80.0'),\n",
       " Text(127, 0, '80.5'),\n",
       " Text(128, 0, '81.0'),\n",
       " Text(129, 0, '81.5'),\n",
       " Text(130, 0, '82.0'),\n",
       " Text(131, 0, '82.5'),\n",
       " Text(132, 0, '83.0'),\n",
       " Text(133, 0, '83.5'),\n",
       " Text(134, 0, '84.0'),\n",
       " Text(135, 0, '84.5'),\n",
       " Text(136, 0, '85.0'),\n",
       " Text(137, 0, '85.5'),\n",
       " Text(138, 0, '86.0'),\n",
       " Text(139, 0, '86.5'),\n",
       " Text(140, 0, '87.0'),\n",
       " Text(141, 0, '87.5'),\n",
       " Text(142, 0, '88.0'),\n",
       " Text(143, 0, '88.5'),\n",
       " Text(144, 0, '89.0'),\n",
       " Text(145, 0, '89.5'),\n",
       " Text(146, 0, '90.0'),\n",
       " Text(147, 0, '90.5'),\n",
       " Text(148, 0, '91.0'),\n",
       " Text(149, 0, '91.5'),\n",
       " Text(150, 0, '92.0'),\n",
       " Text(151, 0, '92.5'),\n",
       " Text(152, 0, '93.0'),\n",
       " Text(153, 0, '94.0'),\n",
       " Text(154, 0, '94.5'),\n",
       " Text(155, 0, '95.5'),\n",
       " Text(156, 0, '96.0')]"
      ]
     },
     "execution_count": 27,
     "metadata": {},
     "output_type": "execute_result"
    },
    {
     "data": {
      "image/png": "[encoded data removed]",
      "text/plain": [
       "<Figure size 640x480 with 1 Axes>"
      ]
     },
     "metadata": {},
     "output_type": "display_data"
    }
   ],
   "source": [
    "my_plot_test_group = sns.barplot(x=frequency_table_test_group.index, y=frequency_table_test_group.values, palette=\"Set3\", \n",
    "                                 hue=frequency_table_test_group.index, legend=False)\n",
    "my_plot_test_group.set_xticklabels(my_plot_test_group.get_xticklabels(), rotation=90)"
   ]
  },
  {
   "cell_type": "code",
   "execution_count": 28,
   "id": "a9df4107-ae78-418d-a521-31f085a501ab",
   "metadata": {
    "scrolled": true
   },
   "outputs": [
    {
     "name": "stderr",
     "output_type": "stream",
     "text": [
      "/var/folders/m4/f8dr8zj14vzfrxjhfypvc0400000gn/T/ipykernel_36246/2767637319.py:3: UserWarning: set_ticklabels() should only be used with a fixed number of ticks, i.e. after set_ticks() or using a FixedLocator.\n",
      "  my_plot_control_group.set_xticklabels(my_plot_control_group.get_xticklabels(), rotation=90)\n"
     ]
    },
    {
     "data": {
      "text/plain": [
       "[Text(0, 0, '17.0'),\n",
       " Text(1, 0, '17.5'),\n",
       " Text(2, 0, '18.0'),\n",
       " Text(3, 0, '18.5'),\n",
       " Text(4, 0, '19.0'),\n",
       " Text(5, 0, '19.5'),\n",
       " Text(6, 0, '20.0'),\n",
       " Text(7, 0, '20.5'),\n",
       " Text(8, 0, '21.0'),\n",
       " Text(9, 0, '21.5'),\n",
       " Text(10, 0, '22.0'),\n",
       " Text(11, 0, '22.5'),\n",
       " Text(12, 0, '23.0'),\n",
       " Text(13, 0, '23.5'),\n",
       " Text(14, 0, '24.0'),\n",
       " Text(15, 0, '24.5'),\n",
       " Text(16, 0, '25.0'),\n",
       " Text(17, 0, '25.5'),\n",
       " Text(18, 0, '26.0'),\n",
       " Text(19, 0, '26.5'),\n",
       " Text(20, 0, '27.0'),\n",
       " Text(21, 0, '27.5'),\n",
       " Text(22, 0, '28.0'),\n",
       " Text(23, 0, '28.5'),\n",
       " Text(24, 0, '29.0'),\n",
       " Text(25, 0, '29.5'),\n",
       " Text(26, 0, '30.0'),\n",
       " Text(27, 0, '30.5'),\n",
       " Text(28, 0, '31.0'),\n",
       " Text(29, 0, '31.5'),\n",
       " Text(30, 0, '32.0'),\n",
       " Text(31, 0, '32.5'),\n",
       " Text(32, 0, '33.0'),\n",
       " Text(33, 0, '33.5'),\n",
       " Text(34, 0, '34.0'),\n",
       " Text(35, 0, '34.5'),\n",
       " Text(36, 0, '35.0'),\n",
       " Text(37, 0, '35.5'),\n",
       " Text(38, 0, '36.0'),\n",
       " Text(39, 0, '36.5'),\n",
       " Text(40, 0, '37.0'),\n",
       " Text(41, 0, '37.5'),\n",
       " Text(42, 0, '38.0'),\n",
       " Text(43, 0, '38.5'),\n",
       " Text(44, 0, '39.0'),\n",
       " Text(45, 0, '39.5'),\n",
       " Text(46, 0, '40.0'),\n",
       " Text(47, 0, '40.5'),\n",
       " Text(48, 0, '41.0'),\n",
       " Text(49, 0, '41.5'),\n",
       " Text(50, 0, '42.0'),\n",
       " Text(51, 0, '42.5'),\n",
       " Text(52, 0, '43.0'),\n",
       " Text(53, 0, '43.5'),\n",
       " Text(54, 0, '44.0'),\n",
       " Text(55, 0, '44.5'),\n",
       " Text(56, 0, '45.0'),\n",
       " Text(57, 0, '45.5'),\n",
       " Text(58, 0, '46.0'),\n",
       " Text(59, 0, '46.5'),\n",
       " Text(60, 0, '47.0'),\n",
       " Text(61, 0, '47.5'),\n",
       " Text(62, 0, '48.0'),\n",
       " Text(63, 0, '48.5'),\n",
       " Text(64, 0, '49.0'),\n",
       " Text(65, 0, '49.5'),\n",
       " Text(66, 0, '50.0'),\n",
       " Text(67, 0, '50.5'),\n",
       " Text(68, 0, '51.0'),\n",
       " Text(69, 0, '51.5'),\n",
       " Text(70, 0, '52.0'),\n",
       " Text(71, 0, '52.5'),\n",
       " Text(72, 0, '53.0'),\n",
       " Text(73, 0, '53.5'),\n",
       " Text(74, 0, '54.0'),\n",
       " Text(75, 0, '54.5'),\n",
       " Text(76, 0, '55.0'),\n",
       " Text(77, 0, '55.5'),\n",
       " Text(78, 0, '56.0'),\n",
       " Text(79, 0, '56.5'),\n",
       " Text(80, 0, '57.0'),\n",
       " Text(81, 0, '57.5'),\n",
       " Text(82, 0, '58.0'),\n",
       " Text(83, 0, '58.5'),\n",
       " Text(84, 0, '59.0'),\n",
       " Text(85, 0, '59.5'),\n",
       " Text(86, 0, '60.0'),\n",
       " Text(87, 0, '60.5'),\n",
       " Text(88, 0, '61.0'),\n",
       " Text(89, 0, '61.5'),\n",
       " Text(90, 0, '62.0'),\n",
       " Text(91, 0, '62.5'),\n",
       " Text(92, 0, '63.0'),\n",
       " Text(93, 0, '63.5'),\n",
       " Text(94, 0, '64.0'),\n",
       " Text(95, 0, '64.5'),\n",
       " Text(96, 0, '65.0'),\n",
       " Text(97, 0, '65.5'),\n",
       " Text(98, 0, '66.0'),\n",
       " Text(99, 0, '66.5'),\n",
       " Text(100, 0, '67.0'),\n",
       " Text(101, 0, '67.5'),\n",
       " Text(102, 0, '68.0'),\n",
       " Text(103, 0, '68.5'),\n",
       " Text(104, 0, '69.0'),\n",
       " Text(105, 0, '69.5'),\n",
       " Text(106, 0, '70.0'),\n",
       " Text(107, 0, '70.5'),\n",
       " Text(108, 0, '71.0'),\n",
       " Text(109, 0, '71.5'),\n",
       " Text(110, 0, '72.0'),\n",
       " Text(111, 0, '72.5'),\n",
       " Text(112, 0, '73.0'),\n",
       " Text(113, 0, '73.5'),\n",
       " Text(114, 0, '74.0'),\n",
       " Text(115, 0, '74.5'),\n",
       " Text(116, 0, '75.0'),\n",
       " Text(117, 0, '75.5'),\n",
       " Text(118, 0, '76.0'),\n",
       " Text(119, 0, '76.5'),\n",
       " Text(120, 0, '77.0'),\n",
       " Text(121, 0, '77.5'),\n",
       " Text(122, 0, '78.0'),\n",
       " Text(123, 0, '78.5'),\n",
       " Text(124, 0, '79.0'),\n",
       " Text(125, 0, '79.5'),\n",
       " Text(126, 0, '80.0'),\n",
       " Text(127, 0, '80.5'),\n",
       " Text(128, 0, '81.0'),\n",
       " Text(129, 0, '81.5'),\n",
       " Text(130, 0, '82.0'),\n",
       " Text(131, 0, '82.5'),\n",
       " Text(132, 0, '83.0'),\n",
       " Text(133, 0, '83.5'),\n",
       " Text(134, 0, '84.0'),\n",
       " Text(135, 0, '84.5'),\n",
       " Text(136, 0, '85.0'),\n",
       " Text(137, 0, '85.5'),\n",
       " Text(138, 0, '86.0'),\n",
       " Text(139, 0, '86.5'),\n",
       " Text(140, 0, '87.0'),\n",
       " Text(141, 0, '87.5'),\n",
       " Text(142, 0, '88.0'),\n",
       " Text(143, 0, '88.5'),\n",
       " Text(144, 0, '89.0'),\n",
       " Text(145, 0, '90.0'),\n",
       " Text(146, 0, '90.5'),\n",
       " Text(147, 0, '91.0'),\n",
       " Text(148, 0, '91.5'),\n",
       " Text(149, 0, '92.0'),\n",
       " Text(150, 0, '92.5'),\n",
       " Text(151, 0, '93.0'),\n",
       " Text(152, 0, '93.5'),\n",
       " Text(153, 0, '94.0'),\n",
       " Text(154, 0, '96.0')]"
      ]
     },
     "execution_count": 28,
     "metadata": {},
     "output_type": "execute_result"
    },
    {
     "data": {
      "image/png": "[encoded data removed]",
      "text/plain": [
       "<Figure size 640x480 with 1 Axes>"
      ]
     },
     "metadata": {},
     "output_type": "display_data"
    }
   ],
   "source": [
    "my_plot_control_group = sns.barplot(x=frequency_table_control_group.index, y=frequency_table_control_group.values, palette=\"Set3\", \n",
    "                                    hue=frequency_table_control_group.index, legend=False)\n",
    "my_plot_control_group.set_xticklabels(my_plot_control_group.get_xticklabels(), rotation=90)"
   ]
  },
  {
   "cell_type": "code",
   "execution_count": 29,
   "id": "c39b1de8-c354-467d-9a1a-ae6a4b6122a2",
   "metadata": {},
   "outputs": [
    {
     "data": {
      "text/plain": [
       "(47.16392196135158, 47.5, 29.5)"
      ]
     },
     "execution_count": 29,
     "metadata": {},
     "output_type": "execute_result"
    }
   ],
   "source": [
    "mean_age_test_group = df_id_test_group['clnt_age'].mean()\n",
    "median_age_test_group = df_id_test_group['clnt_age'].median()\n",
    "mode_age_test_group = df_id_test_group['clnt_age'].mode()[0]\n",
    "\n",
    "mean_age_test_group, median_age_test_group, mode_age_test_group"
   ]
  },
  {
   "cell_type": "code",
   "execution_count": 30,
   "id": "64517756-f2a5-449d-9735-20d416217610",
   "metadata": {},
   "outputs": [
    {
     "data": {
      "text/plain": [
       "(47.498427271954434, 48.5, 58.5)"
      ]
     },
     "execution_count": 30,
     "metadata": {},
     "output_type": "execute_result"
    }
   ],
   "source": [
    "mean_age_control_group = df_id_control_group['clnt_age'].mean()\n",
    "median_age_control_group = df_id_control_group['clnt_age'].median()\n",
    "mode_age_control_group = df_id_control_group['clnt_age'].mode()[0]\n",
    "\n",
    "mean_age_control_group, median_age_control_group, mode_age_control_group"
   ]
  },
  {
   "cell_type": "code",
   "execution_count": 31,
   "id": "b39ef93e-4766-42e2-8f76-754318f20fcd",
   "metadata": {},
   "outputs": [
    {
     "data": {
      "text/plain": [
       "(240.698490240794,\n",
       " 15.514460681596185,\n",
       " 17.0,\n",
       " 96.0,\n",
       " 79.0,\n",
       " 0.25    33.5\n",
       " 0.50    47.5\n",
       " 0.75    59.5\n",
       " Name: clnt_age, dtype: float64)"
      ]
     },
     "execution_count": 31,
     "metadata": {},
     "output_type": "execute_result"
    }
   ],
   "source": [
    "variance_age_test_group = df_id_test_group['clnt_age'].var()\n",
    "std_dev_age_test_group = df_id_test_group['clnt_age'].std()\n",
    "min_age_test_group = df_id_test_group['clnt_age'].min()\n",
    "max_age_test_group = df_id_test_group['clnt_age'].max()\n",
    "range_age_test_group = max_age_test_group - min_age_test_group\n",
    "quantiles_age_test_group = df_id_test_group['clnt_age'].quantile([0.25, 0.5, 0.75])\n",
    "\n",
    "variance_age_test_group, std_dev_age_test_group, min_age_test_group, max_age_test_group, range_age_test_group, quantiles_age_test_group"
   ]
  },
  {
   "cell_type": "code",
   "execution_count": 32,
   "id": "0f56f112-8109-4c5c-a4a7-10bf716a7123",
   "metadata": {},
   "outputs": [
    {
     "data": {
      "text/plain": [
       "(240.92569359443408,\n",
       " 15.521781263580353,\n",
       " 17.0,\n",
       " 96.0,\n",
       " 79.0,\n",
       " 0.25    33.5\n",
       " 0.50    48.5\n",
       " 0.75    60.0\n",
       " Name: clnt_age, dtype: float64)"
      ]
     },
     "execution_count": 32,
     "metadata": {},
     "output_type": "execute_result"
    }
   ],
   "source": [
    "variance_age_control_group = df_id_control_group['clnt_age'].var()\n",
    "std_dev_age_control_group = df_id_control_group['clnt_age'].std()\n",
    "min_age_control_group = df_id_control_group['clnt_age'].min()\n",
    "max_age_control_group = df_id_control_group['clnt_age'].max()\n",
    "range_age_control_group = max_age_control_group - min_age_control_group\n",
    "quantiles_age_control_group = df_id_control_group['clnt_age'].quantile([0.25, 0.5, 0.75])\n",
    "\n",
    "variance_age_control_group, std_dev_age_control_group, min_age_control_group, max_age_control_group, range_age_control_group, quantiles_age_control_group"
   ]
  },
  {
   "cell_type": "code",
   "execution_count": 33,
   "id": "9b7cec63-754e-42ab-89fe-9db7ab16155e",
   "metadata": {},
   "outputs": [
    {
     "name": "stderr",
     "output_type": "stream",
     "text": [
      "/var/folders/m4/f8dr8zj14vzfrxjhfypvc0400000gn/T/ipykernel_36246/3140519077.py:1: SettingWithCopyWarning: \n",
      "A value is trying to be set on a copy of a slice from a DataFrame.\n",
      "Try using .loc[row_indexer,col_indexer] = value instead\n",
      "\n",
      "See the caveats in the documentation: https://pandas.pydata.org/pandas-docs/stable/user_guide/indexing.html#returning-a-view-versus-a-copy\n",
      "  df_id_test_group.loc[df_id_test_group['clnt_age'] < 20, 'age_class'] = 'teen'\n"
     ]
    }
   ],
   "source": [
    "df_id_test_group.loc[df_id_test_group['clnt_age'] < 20, 'age_class'] = 'teen'\n",
    "df_id_test_group.loc[(df_id_test_group['clnt_age'] >= 20) & (df_id_test_group['clnt_age'] < 60), 'age_class'] = 'adult'\n",
    "df_id_test_group.loc[df_id_test_group['clnt_age'] >= 60, 'age_class'] = 'senior'"
   ]
  },
  {
   "cell_type": "code",
   "execution_count": 34,
   "id": "a67bc8c8-27f0-492d-9ccf-e72f737e6c11",
   "metadata": {},
   "outputs": [
    {
     "name": "stderr",
     "output_type": "stream",
     "text": [
      "/var/folders/m4/f8dr8zj14vzfrxjhfypvc0400000gn/T/ipykernel_36246/3136956780.py:1: SettingWithCopyWarning: \n",
      "A value is trying to be set on a copy of a slice from a DataFrame.\n",
      "Try using .loc[row_indexer,col_indexer] = value instead\n",
      "\n",
      "See the caveats in the documentation: https://pandas.pydata.org/pandas-docs/stable/user_guide/indexing.html#returning-a-view-versus-a-copy\n",
      "  df_id_control_group.loc[df_id_control_group['clnt_age'] < 20, 'age_class'] = 'teen'\n"
     ]
    }
   ],
   "source": [
    "df_id_control_group.loc[df_id_control_group['clnt_age'] < 20, 'age_class'] = 'teen'\n",
    "df_id_control_group.loc[(df_id_control_group['clnt_age'] >= 20) & (df_id_control_group['clnt_age'] < 60), 'age_class'] = 'adult'\n",
    "df_id_control_group.loc[df_id_control_group['clnt_age'] >= 60, 'age_class'] = 'senior'"
   ]
  },
  {
   "cell_type": "code",
   "execution_count": 35,
   "id": "4afa3fa0-e808-4bfd-9d19-8e11b67620ad",
   "metadata": {},
   "outputs": [
    {
     "data": {
      "text/plain": [
       "age_class\n",
       "adult     20083\n",
       "senior     6617\n",
       "teen        261\n",
       "Name: count, dtype: int64"
      ]
     },
     "execution_count": 35,
     "metadata": {},
     "output_type": "execute_result"
    }
   ],
   "source": [
    "frequency_table_test_group1 = df_id_test_group['age_class'].value_counts()\n",
    "frequency_table_test_group1"
   ]
  },
  {
   "cell_type": "code",
   "execution_count": 36,
   "id": "5c475f97-6cac-4d3a-beac-7138e56664fe",
   "metadata": {},
   "outputs": [
    {
     "data": {
      "text/plain": [
       "age_class\n",
       "adult     17374\n",
       "senior     5941\n",
       "teen        211\n",
       "Name: count, dtype: int64"
      ]
     },
     "execution_count": 36,
     "metadata": {},
     "output_type": "execute_result"
    }
   ],
   "source": [
    "frequency_table_control_group1 = df_id_control_group['age_class'].value_counts()\n",
    "frequency_table_control_group1"
   ]
  },
  {
   "cell_type": "code",
   "execution_count": 37,
   "id": "cf2fd6b3-ec54-4df1-ab54-db1390b2428c",
   "metadata": {},
   "outputs": [
    {
     "data": {
      "image/png": "[encoded data removed]",
      "text/plain": [
       "<Figure size 640x480 with 1 Axes>"
      ]
     },
     "metadata": {},
     "output_type": "display_data"
    }
   ],
   "source": [
    "#Are the clients younger or older? Teen -> younger than 20 years old, adult -> from 20 up to 60, and senior from 60\n",
    "my_plot_test_group1 = sns.barplot(x=frequency_table_test_group1.index, y=frequency_table_test_group1.values, palette=\"Set3\", \n",
    "                                  hue=frequency_table_test_group1.index, legend=False)"
   ]
  },
  {
   "cell_type": "code",
   "execution_count": 38,
   "id": "3936e549-5b8b-41a5-9502-d9d478caa6cf",
   "metadata": {},
   "outputs": [
    {
     "data": {
      "image/png": "[encoded data removed]",
      "text/plain": [
       "<Figure size 640x480 with 1 Axes>"
      ]
     },
     "metadata": {},
     "output_type": "display_data"
    }
   ],
   "source": [
    "#Are the clients younger or older? Teen -> younger than 20 years old, adult -> from 20 up to 60, and senior from 60\n",
    "my_plot_control_group1 = sns.barplot(x=frequency_table_control_group1.index, y=frequency_table_control_group1.values, palette=\"Set2\", \n",
    "                                     hue=frequency_table_control_group1.index, legend=False)"
   ]
  },
  {
   "cell_type": "code",
   "execution_count": 39,
   "id": "03fd4b34-d625-48e8-a0ef-aa40ae116697",
   "metadata": {
    "scrolled": true
   },
   "outputs": [
    {
     "data": {
      "text/plain": [
       "clnt_tenure_yr\n",
       "5.0     2710\n",
       "6.0     2644\n",
       "7.0     1917\n",
       "4.0     1825\n",
       "15.0    1766\n",
       "8.0     1614\n",
       "14.0    1415\n",
       "13.0    1391\n",
       "12.0    1336\n",
       "9.0     1271\n",
       "10.0    1121\n",
       "11.0    1061\n",
       "16.0    1025\n",
       "21.0     841\n",
       "20.0     574\n",
       "22.0     574\n",
       "17.0     531\n",
       "23.0     479\n",
       "18.0     444\n",
       "19.0     424\n",
       "24.0     301\n",
       "26.0     262\n",
       "27.0     256\n",
       "25.0     180\n",
       "28.0     178\n",
       "3.0      176\n",
       "29.0     119\n",
       "30.0     116\n",
       "33.0      86\n",
       "32.0      68\n",
       "34.0      60\n",
       "31.0      53\n",
       "35.0      34\n",
       "2.0       32\n",
       "36.0      17\n",
       "37.0      14\n",
       "48.0       8\n",
       "40.0       6\n",
       "38.0       6\n",
       "39.0       5\n",
       "47.0       4\n",
       "51.0       3\n",
       "43.0       3\n",
       "55.0       3\n",
       "50.0       2\n",
       "46.0       2\n",
       "49.0       2\n",
       "44.0       1\n",
       "42.0       1\n",
       "Name: count, dtype: int64"
      ]
     },
     "execution_count": 39,
     "metadata": {},
     "output_type": "execute_result"
    }
   ],
   "source": [
    "frequency_table_tenure_yr_test_group = df_id_test_group['clnt_tenure_yr'].value_counts()\n",
    "frequency_table_tenure_yr_test_group"
   ]
  },
  {
   "cell_type": "code",
   "execution_count": 40,
   "id": "ccf05e77-27a5-4bfe-b772-f036a3638d43",
   "metadata": {
    "scrolled": true
   },
   "outputs": [
    {
     "data": {
      "text/plain": [
       "clnt_tenure_yr\n",
       "6.0     2419\n",
       "5.0     2240\n",
       "7.0     1655\n",
       "4.0     1556\n",
       "15.0    1512\n",
       "8.0     1305\n",
       "14.0    1225\n",
       "12.0    1217\n",
       "13.0    1195\n",
       "9.0     1093\n",
       "11.0     991\n",
       "10.0     936\n",
       "16.0     906\n",
       "21.0     719\n",
       "20.0     539\n",
       "22.0     492\n",
       "17.0     446\n",
       "23.0     445\n",
       "18.0     424\n",
       "19.0     397\n",
       "24.0     296\n",
       "26.0     225\n",
       "27.0     211\n",
       "28.0     189\n",
       "3.0      161\n",
       "25.0     160\n",
       "29.0     105\n",
       "30.0     101\n",
       "31.0      63\n",
       "33.0      58\n",
       "34.0      55\n",
       "32.0      54\n",
       "35.0      39\n",
       "2.0       29\n",
       "38.0      17\n",
       "37.0      15\n",
       "36.0      10\n",
       "48.0       4\n",
       "42.0       3\n",
       "46.0       3\n",
       "50.0       2\n",
       "55.0       2\n",
       "49.0       2\n",
       "39.0       2\n",
       "40.0       1\n",
       "47.0       1\n",
       "52.0       1\n",
       "54.0       1\n",
       "41.0       1\n",
       "43.0       1\n",
       "45.0       1\n",
       "44.0       1\n",
       "Name: count, dtype: int64"
      ]
     },
     "execution_count": 40,
     "metadata": {},
     "output_type": "execute_result"
    }
   ],
   "source": [
    "frequency_table_tenure_yr_control_group = df_id_control_group['clnt_tenure_yr'].value_counts()\n",
    "frequency_table_tenure_yr_control_group"
   ]
  },
  {
   "cell_type": "code",
   "execution_count": 41,
   "id": "04c699be-15ea-42b4-be12-aef90bc9214e",
   "metadata": {
    "scrolled": true
   },
   "outputs": [
    {
     "data": {
      "text/plain": [
       "([0,\n",
       "  1,\n",
       "  2,\n",
       "  3,\n",
       "  4,\n",
       "  5,\n",
       "  6,\n",
       "  7,\n",
       "  8,\n",
       "  9,\n",
       "  10,\n",
       "  11,\n",
       "  12,\n",
       "  13,\n",
       "  14,\n",
       "  15,\n",
       "  16,\n",
       "  17,\n",
       "  18,\n",
       "  19,\n",
       "  20,\n",
       "  21,\n",
       "  22,\n",
       "  23,\n",
       "  24,\n",
       "  25,\n",
       "  26,\n",
       "  27,\n",
       "  28,\n",
       "  29,\n",
       "  30,\n",
       "  31,\n",
       "  32,\n",
       "  33,\n",
       "  34,\n",
       "  35,\n",
       "  36,\n",
       "  37,\n",
       "  38,\n",
       "  39,\n",
       "  40,\n",
       "  41,\n",
       "  42,\n",
       "  43,\n",
       "  44,\n",
       "  45,\n",
       "  46,\n",
       "  47,\n",
       "  48],\n",
       " [Text(0, 0, '2.0'),\n",
       "  Text(1, 0, '3.0'),\n",
       "  Text(2, 0, '4.0'),\n",
       "  Text(3, 0, '5.0'),\n",
       "  Text(4, 0, '6.0'),\n",
       "  Text(5, 0, '7.0'),\n",
       "  Text(6, 0, '8.0'),\n",
       "  Text(7, 0, '9.0'),\n",
       "  Text(8, 0, '10.0'),\n",
       "  Text(9, 0, '11.0'),\n",
       "  Text(10, 0, '12.0'),\n",
       "  Text(11, 0, '13.0'),\n",
       "  Text(12, 0, '14.0'),\n",
       "  Text(13, 0, '15.0'),\n",
       "  Text(14, 0, '16.0'),\n",
       "  Text(15, 0, '17.0'),\n",
       "  Text(16, 0, '18.0'),\n",
       "  Text(17, 0, '19.0'),\n",
       "  Text(18, 0, '20.0'),\n",
       "  Text(19, 0, '21.0'),\n",
       "  Text(20, 0, '22.0'),\n",
       "  Text(21, 0, '23.0'),\n",
       "  Text(22, 0, '24.0'),\n",
       "  Text(23, 0, '25.0'),\n",
       "  Text(24, 0, '26.0'),\n",
       "  Text(25, 0, '27.0'),\n",
       "  Text(26, 0, '28.0'),\n",
       "  Text(27, 0, '29.0'),\n",
       "  Text(28, 0, '30.0'),\n",
       "  Text(29, 0, '31.0'),\n",
       "  Text(30, 0, '32.0'),\n",
       "  Text(31, 0, '33.0'),\n",
       "  Text(32, 0, '34.0'),\n",
       "  Text(33, 0, '35.0'),\n",
       "  Text(34, 0, '36.0'),\n",
       "  Text(35, 0, '37.0'),\n",
       "  Text(36, 0, '38.0'),\n",
       "  Text(37, 0, '39.0'),\n",
       "  Text(38, 0, '40.0'),\n",
       "  Text(39, 0, '42.0'),\n",
       "  Text(40, 0, '43.0'),\n",
       "  Text(41, 0, '44.0'),\n",
       "  Text(42, 0, '46.0'),\n",
       "  Text(43, 0, '47.0'),\n",
       "  Text(44, 0, '48.0'),\n",
       "  Text(45, 0, '49.0'),\n",
       "  Text(46, 0, '50.0'),\n",
       "  Text(47, 0, '51.0'),\n",
       "  Text(48, 0, '55.0')])"
      ]
     },
     "execution_count": 41,
     "metadata": {},
     "output_type": "execute_result"
    },
    {
     "data": {
      "image/png": "[encoded data removed]",
      "text/plain": [
       "<Figure size 640x480 with 1 Axes>"
      ]
     },
     "metadata": {},
     "output_type": "display_data"
    }
   ],
   "source": [
    "sns.barplot(x=frequency_table_tenure_yr_test_group.index, y=frequency_table_tenure_yr_test_group.values, palette=\"Set3\", \n",
    "            hue=frequency_table_tenure_yr_test_group.index, legend=False)\n",
    "plt.xticks(rotation=90, ha='right')"
   ]
  },
  {
   "cell_type": "code",
   "execution_count": 42,
   "id": "bb26899a-9c3d-40ee-bcb7-7f9778333aab",
   "metadata": {
    "scrolled": true
   },
   "outputs": [
    {
     "data": {
      "text/plain": [
       "([0,\n",
       "  1,\n",
       "  2,\n",
       "  3,\n",
       "  4,\n",
       "  5,\n",
       "  6,\n",
       "  7,\n",
       "  8,\n",
       "  9,\n",
       "  10,\n",
       "  11,\n",
       "  12,\n",
       "  13,\n",
       "  14,\n",
       "  15,\n",
       "  16,\n",
       "  17,\n",
       "  18,\n",
       "  19,\n",
       "  20,\n",
       "  21,\n",
       "  22,\n",
       "  23,\n",
       "  24,\n",
       "  25,\n",
       "  26,\n",
       "  27,\n",
       "  28,\n",
       "  29,\n",
       "  30,\n",
       "  31,\n",
       "  32,\n",
       "  33,\n",
       "  34,\n",
       "  35,\n",
       "  36,\n",
       "  37,\n",
       "  38,\n",
       "  39,\n",
       "  40,\n",
       "  41,\n",
       "  42,\n",
       "  43,\n",
       "  44,\n",
       "  45,\n",
       "  46,\n",
       "  47,\n",
       "  48,\n",
       "  49,\n",
       "  50,\n",
       "  51],\n",
       " [Text(0, 0, '2.0'),\n",
       "  Text(1, 0, '3.0'),\n",
       "  Text(2, 0, '4.0'),\n",
       "  Text(3, 0, '5.0'),\n",
       "  Text(4, 0, '6.0'),\n",
       "  Text(5, 0, '7.0'),\n",
       "  Text(6, 0, '8.0'),\n",
       "  Text(7, 0, '9.0'),\n",
       "  Text(8, 0, '10.0'),\n",
       "  Text(9, 0, '11.0'),\n",
       "  Text(10, 0, '12.0'),\n",
       "  Text(11, 0, '13.0'),\n",
       "  Text(12, 0, '14.0'),\n",
       "  Text(13, 0, '15.0'),\n",
       "  Text(14, 0, '16.0'),\n",
       "  Text(15, 0, '17.0'),\n",
       "  Text(16, 0, '18.0'),\n",
       "  Text(17, 0, '19.0'),\n",
       "  Text(18, 0, '20.0'),\n",
       "  Text(19, 0, '21.0'),\n",
       "  Text(20, 0, '22.0'),\n",
       "  Text(21, 0, '23.0'),\n",
       "  Text(22, 0, '24.0'),\n",
       "  Text(23, 0, '25.0'),\n",
       "  Text(24, 0, '26.0'),\n",
       "  Text(25, 0, '27.0'),\n",
       "  Text(26, 0, '28.0'),\n",
       "  Text(27, 0, '29.0'),\n",
       "  Text(28, 0, '30.0'),\n",
       "  Text(29, 0, '31.0'),\n",
       "  Text(30, 0, '32.0'),\n",
       "  Text(31, 0, '33.0'),\n",
       "  Text(32, 0, '34.0'),\n",
       "  Text(33, 0, '35.0'),\n",
       "  Text(34, 0, '36.0'),\n",
       "  Text(35, 0, '37.0'),\n",
       "  Text(36, 0, '38.0'),\n",
       "  Text(37, 0, '39.0'),\n",
       "  Text(38, 0, '40.0'),\n",
       "  Text(39, 0, '41.0'),\n",
       "  Text(40, 0, '42.0'),\n",
       "  Text(41, 0, '43.0'),\n",
       "  Text(42, 0, '44.0'),\n",
       "  Text(43, 0, '45.0'),\n",
       "  Text(44, 0, '46.0'),\n",
       "  Text(45, 0, '47.0'),\n",
       "  Text(46, 0, '48.0'),\n",
       "  Text(47, 0, '49.0'),\n",
       "  Text(48, 0, '50.0'),\n",
       "  Text(49, 0, '52.0'),\n",
       "  Text(50, 0, '54.0'),\n",
       "  Text(51, 0, '55.0')])"
      ]
     },
     "execution_count": 42,
     "metadata": {},
     "output_type": "execute_result"
    },
    {
     "data": {
      "image/png": "[encoded data removed]",
      "text/plain": [
       "<Figure size 640x480 with 1 Axes>"
      ]
     },
     "metadata": {},
     "output_type": "display_data"
    }
   ],
   "source": [
    "sns.barplot(x=frequency_table_tenure_yr_control_group.index, y=frequency_table_tenure_yr_control_group.values, palette=\"Set3\", \n",
    "            hue=frequency_table_tenure_yr_control_group.index, legend=False)\n",
    "plt.xticks(rotation=90, ha='right')"
   ]
  },
  {
   "cell_type": "code",
   "execution_count": 43,
   "id": "02a45d6a-75ec-4351-973e-beea79252894",
   "metadata": {},
   "outputs": [
    {
     "data": {
      "text/plain": [
       "(11.98290122769927, 11.0, 5.0)"
      ]
     },
     "execution_count": 43,
     "metadata": {},
     "output_type": "execute_result"
    }
   ],
   "source": [
    "mean_tenure_yr_test_group = df_id_test_group['clnt_tenure_yr'].mean()\n",
    "median_tenure_yr_test_group = df_id_test_group['clnt_tenure_yr'].median()\n",
    "mode_tenure_yr_test_group = df_id_test_group['clnt_tenure_yr'].mode()[0]\n",
    "\n",
    "mean_tenure_yr_test_group, median_tenure_yr_test_group, mode_tenure_yr_test_group"
   ]
  },
  {
   "cell_type": "code",
   "execution_count": 44,
   "id": "d0e6df36-885c-4785-81ff-3f21323c19c6",
   "metadata": {},
   "outputs": [
    {
     "data": {
      "text/plain": [
       "(12.087860239734761, 11.0, 6.0)"
      ]
     },
     "execution_count": 44,
     "metadata": {},
     "output_type": "execute_result"
    }
   ],
   "source": [
    "mean_tenure_yr_control_group = df_id_control_group['clnt_tenure_yr'].mean()\n",
    "median_tenure_yr_control_group = df_id_control_group['clnt_tenure_yr'].median()\n",
    "mode_tenure_yr_control_group = df_id_control_group['clnt_tenure_yr'].mode()[0]\n",
    "\n",
    "mean_tenure_yr_control_group, median_tenure_yr_control_group, mode_tenure_yr_control_group"
   ]
  },
  {
   "cell_type": "code",
   "execution_count": 45,
   "id": "ea1065bd-0aa3-481f-9b3e-052e88d96983",
   "metadata": {},
   "outputs": [
    {
     "data": {
      "text/plain": [
       "(53.0,\n",
       " 0.25     6.0\n",
       " 0.50    11.0\n",
       " 0.75    15.0\n",
       " Name: clnt_tenure_yr, dtype: float64)"
      ]
     },
     "execution_count": 45,
     "metadata": {},
     "output_type": "execute_result"
    }
   ],
   "source": [
    "variance_tenure_yr_test_group = df_id_test_group['clnt_tenure_yr'].var()\n",
    "std_dev_tenure_yr_test_group = df_id_test_group['clnt_tenure_yr'].std()\n",
    "min_tenure_yr_test_group = df_id_test_group['clnt_tenure_yr'].min()\n",
    "max_tenure_yr_test_group = df_id_test_group['clnt_tenure_yr'].max()\n",
    "range_tenure_yr_test_group = max_tenure_yr_test_group - min_tenure_yr_test_group\n",
    "quantiles_tenure_yr_test_group = df_id_test_group['clnt_tenure_yr'].quantile([0.25, 0.5, 0.75])\n",
    "\n",
    "variance_tenure_yr_test_group, std_dev_tenure_yr_test_group, min_tenure_yr_test_group, max_tenure_yr_test_group, \n",
    "range_tenure_yr_test_group, quantiles_tenure_yr_test_group"
   ]
  },
  {
   "cell_type": "code",
   "execution_count": 46,
   "id": "2ba8402f-e536-418a-84b1-84b82ac644b4",
   "metadata": {},
   "outputs": [
    {
     "data": {
      "text/plain": [
       "(53.0,\n",
       " 0.25     6.0\n",
       " 0.50    11.0\n",
       " 0.75    16.0\n",
       " Name: clnt_tenure_yr, dtype: float64)"
      ]
     },
     "execution_count": 46,
     "metadata": {},
     "output_type": "execute_result"
    }
   ],
   "source": [
    "variance_tenure_yr_control_group = df_id_control_group['clnt_tenure_yr'].var()\n",
    "std_dev_tenure_yr_control_group = df_id_control_group['clnt_tenure_yr'].std()\n",
    "min_tenure_yr_control_group = df_id_control_group['clnt_tenure_yr'].min()\n",
    "max_tenure_yr_control_group = df_id_control_group['clnt_tenure_yr'].max()\n",
    "range_tenure_yr_control_group = max_tenure_yr_control_group - min_tenure_yr_control_group\n",
    "quantiles_tenure_yr_control_group = df_id_control_group['clnt_tenure_yr'].quantile([0.25, 0.5, 0.75])\n",
    "\n",
    "variance_tenure_yr_control_group, std_dev_tenure_yr_control_group, min_tenure_yr_control_group, max_tenure_yr_control_group, \n",
    "range_tenure_yr_control_group, quantiles_tenure_yr_control_group"
   ]
  },
  {
   "cell_type": "code",
   "execution_count": 47,
   "id": "999b5018-93ff-4cfc-a5dd-2ae778eaf79e",
   "metadata": {},
   "outputs": [
    {
     "name": "stderr",
     "output_type": "stream",
     "text": [
      "/var/folders/m4/f8dr8zj14vzfrxjhfypvc0400000gn/T/ipykernel_36246/51026159.py:1: SettingWithCopyWarning: \n",
      "A value is trying to be set on a copy of a slice from a DataFrame.\n",
      "Try using .loc[row_indexer,col_indexer] = value instead\n",
      "\n",
      "See the caveats in the documentation: https://pandas.pydata.org/pandas-docs/stable/user_guide/indexing.html#returning-a-view-versus-a-copy\n",
      "  df_id_test_group.loc[df_id_test_group['clnt_tenure_yr'] <= 6, 'tenure_class'] = 'recent'\n"
     ]
    }
   ],
   "source": [
    "df_id_test_group.loc[df_id_test_group['clnt_tenure_yr'] <= 6, 'tenure_class'] = 'recent'\n",
    "df_id_test_group.loc[df_id_test_group['clnt_tenure_yr'] > 6, 'tenure_class'] = 'long-standing'"
   ]
  },
  {
   "cell_type": "code",
   "execution_count": 48,
   "id": "1ff6894b-1fc0-4dcc-b385-19c08b976bcc",
   "metadata": {},
   "outputs": [
    {
     "name": "stderr",
     "output_type": "stream",
     "text": [
      "/var/folders/m4/f8dr8zj14vzfrxjhfypvc0400000gn/T/ipykernel_36246/446478943.py:1: SettingWithCopyWarning: \n",
      "A value is trying to be set on a copy of a slice from a DataFrame.\n",
      "Try using .loc[row_indexer,col_indexer] = value instead\n",
      "\n",
      "See the caveats in the documentation: https://pandas.pydata.org/pandas-docs/stable/user_guide/indexing.html#returning-a-view-versus-a-copy\n",
      "  df_id_control_group.loc[df_id_control_group['clnt_tenure_yr'] <= 6, 'tenure_class'] = 'recent'\n"
     ]
    }
   ],
   "source": [
    "df_id_control_group.loc[df_id_control_group['clnt_tenure_yr'] <= 6, 'tenure_class'] = 'recent'\n",
    "df_id_control_group.loc[df_id_control_group['clnt_tenure_yr'] > 6, 'tenure_class'] = 'long-standing'"
   ]
  },
  {
   "cell_type": "code",
   "execution_count": 49,
   "id": "15e2da54-02ab-4f39-857e-6d4eeaf888f7",
   "metadata": {},
   "outputs": [
    {
     "data": {
      "text/plain": [
       "tenure_class\n",
       "long-standing    19574\n",
       "recent            7387\n",
       "Name: count, dtype: int64"
      ]
     },
     "execution_count": 49,
     "metadata": {},
     "output_type": "execute_result"
    }
   ],
   "source": [
    "frequency_table_test_group2 = df_id_test_group['tenure_class'].value_counts()\n",
    "frequency_table_test_group2"
   ]
  },
  {
   "cell_type": "code",
   "execution_count": 50,
   "id": "f7982b40-4bd6-42af-b2aa-18ee9c2c01b4",
   "metadata": {},
   "outputs": [
    {
     "data": {
      "text/plain": [
       "tenure_class\n",
       "long-standing    17121\n",
       "recent            6405\n",
       "Name: count, dtype: int64"
      ]
     },
     "execution_count": 50,
     "metadata": {},
     "output_type": "execute_result"
    }
   ],
   "source": [
    "frequency_table_control_group2 = df_id_control_group['tenure_class'].value_counts()\n",
    "frequency_table_control_group2"
   ]
  },
  {
   "cell_type": "code",
   "execution_count": 51,
   "id": "9fdc7c81-964c-4282-b72f-6ef9ed0a2c62",
   "metadata": {},
   "outputs": [
    {
     "data": {
      "image/png": "[encoded data removed]",
      "text/plain": [
       "<Figure size 640x480 with 1 Axes>"
      ]
     },
     "metadata": {},
     "output_type": "display_data"
    }
   ],
   "source": [
    "#Are the clients new or long-standing? long-standing -> clients for more than 6 years \n",
    "my_plot_test_group2 = sns.barplot(x=frequency_table_test_group2.index, y=frequency_table_test_group2.values, palette=\"Set3\", \n",
    "                       hue=frequency_table_test_group2.index, legend=False)"
   ]
  },
  {
   "cell_type": "code",
   "execution_count": 52,
   "id": "1448692d-64dd-45a7-abd9-7226dd603f00",
   "metadata": {},
   "outputs": [
    {
     "data": {
      "image/png": "[encoded data removed]",
      "text/plain": [
       "<Figure size 640x480 with 1 Axes>"
      ]
     },
     "metadata": {},
     "output_type": "display_data"
    }
   ],
   "source": [
    "#Are the clients new or long-standing? long-standing -> clients for more than 6 years \n",
    "my_plot_control_group2 = sns.barplot(x=frequency_table_control_group2.index, y=frequency_table_control_group2.values, palette=\"Set2\", \n",
    "                       hue=frequency_table_control_group2.index, legend=False)"
   ]
  },
  {
   "cell_type": "code",
   "execution_count": 53,
   "id": "3d7a674d-d165-4934-898c-e2b4e12ac84c",
   "metadata": {},
   "outputs": [
    {
     "name": "stdout",
     "output_type": "stream",
     "text": [
      "        client_id             visitor_id                      visit_id  \\\n",
      "0             555  402506806_56087378777  637149525_38041617439_716659   \n",
      "5             647   66758770_53988066587   40369564_40101682850_311847   \n",
      "10            934  810392784_45004760546    7076463_57954418406_971348   \n",
      "14           1336  920624746_32603333901  583743392_96265099036_939815   \n",
      "21           1346   123474046_4204671056   27144337_83739845380_214282   \n",
      "...           ...                    ...                           ...   \n",
      "177764    9999150  665127594_52605538620  982803842_91891255980_123078   \n",
      "177767    9999400  915967319_19082377501  288904166_90826265353_276104   \n",
      "177772    9999626   52633065_71189986073  182723364_27031318473_880901   \n",
      "177774    9999729  604429154_69247391147   99583652_41711450505_426179   \n",
      "177785    9999832  145538019_54444341400  472154369_16714624241_585315   \n",
      "\n",
      "       process_step            date_time Variation  clnt_tenure_yr  \\\n",
      "0           confirm  2017-04-15 13:00:34      Test             3.0   \n",
      "5           confirm  2017-04-12 15:47:45      Test            12.0   \n",
      "10            start  2017-04-18 02:36:30      Test             9.0   \n",
      "14          confirm  2017-05-08 06:08:43      Test            48.0   \n",
      "21            start  2017-06-06 18:20:28      Test            14.0   \n",
      "...             ...                  ...       ...             ...   \n",
      "177764        start  2017-05-29 16:55:12      Test             5.0   \n",
      "177767      confirm  2017-04-20 05:23:27      Test             7.0   \n",
      "177772        start  2017-05-14 09:07:51      Test             9.0   \n",
      "177774        start  2017-04-05 13:40:49      Test            10.0   \n",
      "177785        start  2017-05-16 16:46:03      Test            23.0   \n",
      "\n",
      "        clnt_tenure_mnth  clnt_age gendr  num_accts        bal  calls_6_mnth  \\\n",
      "0                   46.0      29.5     U        2.0   25454.66           2.0   \n",
      "5                  151.0      57.5     M        2.0   30525.80           0.0   \n",
      "10                 109.0      51.0     F        2.0   32522.88           0.0   \n",
      "14                 576.0      42.0     M        4.0  130537.18           6.0   \n",
      "21                 177.0      46.0     F        2.0  822512.91           3.0   \n",
      "...                  ...       ...   ...        ...        ...           ...   \n",
      "177764              66.0      30.0     U        3.0   97141.71           6.0   \n",
      "177767              86.0      28.5     U        2.0   51787.04           0.0   \n",
      "177772             113.0      35.0     M        2.0   36642.88           6.0   \n",
      "177774             124.0      31.0     F        3.0  107059.74           6.0   \n",
      "177785             281.0      49.0     F        2.0  431887.61           1.0   \n",
      "\n",
      "        logons_6_mnth age_class   tenure_class  \\\n",
      "0                 6.0     adult         recent   \n",
      "5                 4.0     adult  long-standing   \n",
      "10                3.0     adult  long-standing   \n",
      "14                9.0     adult  long-standing   \n",
      "21                6.0     adult  long-standing   \n",
      "...               ...       ...            ...   \n",
      "177764            9.0     adult         recent   \n",
      "177767            3.0     adult  long-standing   \n",
      "177772            9.0     adult  long-standing   \n",
      "177774            9.0     adult  long-standing   \n",
      "177785            4.0     adult  long-standing   \n",
      "\n",
      "                                                       id  \n",
      "0       555_402506806_56087378777_637149525_3804161743...  \n",
      "5       647_66758770_53988066587_40369564_40101682850_...  \n",
      "10      934_810392784_45004760546_7076463_57954418406_...  \n",
      "14      1336_920624746_32603333901_583743392_962650990...  \n",
      "21      1346_123474046_4204671056_27144337_83739845380...  \n",
      "...                                                   ...  \n",
      "177764  9999150_665127594_52605538620_982803842_918912...  \n",
      "177767  9999400_915967319_19082377501_288904166_908262...  \n",
      "177772  9999626_52633065_71189986073_182723364_2703131...  \n",
      "177774  9999729_604429154_69247391147_99583652_4171145...  \n",
      "177785  9999832_145538019_54444341400_472154369_167146...  \n",
      "\n",
      "[26961 rows x 17 columns]\n"
     ]
    },
    {
     "name": "stderr",
     "output_type": "stream",
     "text": [
      "/var/folders/m4/f8dr8zj14vzfrxjhfypvc0400000gn/T/ipykernel_36246/2707500526.py:1: SettingWithCopyWarning: \n",
      "A value is trying to be set on a copy of a slice from a DataFrame.\n",
      "Try using .loc[row_indexer,col_indexer] = value instead\n",
      "\n",
      "See the caveats in the documentation: https://pandas.pydata.org/pandas-docs/stable/user_guide/indexing.html#returning-a-view-versus-a-copy\n",
      "  df_id_test_group['id'] = df_id_test_group.apply(lambda row: '_'.join(map(str, [row['client_id'], row['visitor_id'], row['visit_id']])), axis=1)\n"
     ]
    }
   ],
   "source": [
    "df_id_test_group['id'] = df_id_test_group.apply(lambda row: '_'.join(map(str, [row['client_id'], row['visitor_id'], row['visit_id']])), axis=1)\n",
    "print(df_id_test_group)"
   ]
  },
  {
   "cell_type": "code",
   "execution_count": 54,
   "id": "4f15b2ad-7147-4325-92b0-b10ccba0a3ae",
   "metadata": {},
   "outputs": [
    {
     "name": "stdout",
     "output_type": "stream",
     "text": [
      "        client_id             visitor_id                      visit_id  \\\n",
      "0            1028   42237450_62128060588  557292053_87239438319_391157   \n",
      "9            1104  194240915_18158000533  543158812_46395476577_767725   \n",
      "11           1186  446844663_31615102958  507052512_11309370126_442139   \n",
      "15           1195  766842522_69992551638  393817425_39015278493_996341   \n",
      "20           1197  753759429_54481946928   71862471_21202285428_848395   \n",
      "...           ...                    ...                           ...   \n",
      "143365    9997125  435478449_41974372268  983995660_11938398128_321832   \n",
      "143370    9997391   494669706_3354361161   84654768_90613632047_633963   \n",
      "143378    9997470  395791369_55562604618   761490147_96352537762_21814   \n",
      "143395    9998346  292425655_16607136645  189177304_69869411700_783154   \n",
      "143407    9998921  960034051_85687824805    378424178_59565976155_8051   \n",
      "\n",
      "       process_step            date_time Variation  clnt_tenure_yr  \\\n",
      "0             start  2017-04-08 18:51:28   Control            12.0   \n",
      "9             start  2017-06-12 07:49:18   Control             5.0   \n",
      "11            start  2017-04-08 15:59:16   Control             8.0   \n",
      "15          confirm  2017-04-05 20:19:31   Control            21.0   \n",
      "20          confirm  2017-04-01 17:17:59   Control             7.0   \n",
      "...             ...                  ...       ...             ...   \n",
      "143365      confirm  2017-04-16 08:42:33   Control             5.0   \n",
      "143370        start  2017-04-05 15:37:56   Control             4.0   \n",
      "143378      confirm  2017-05-09 16:39:34   Control             6.0   \n",
      "143395      confirm  2017-03-29 15:37:28   Control            50.0   \n",
      "143407        start  2017-04-18 11:26:31   Control            15.0   \n",
      "\n",
      "        clnt_tenure_mnth  clnt_age gendr  num_accts        bal  calls_6_mnth  \\\n",
      "0                  145.0      36.0     M        3.0  103520.22           1.0   \n",
      "9                   66.0      48.0     U        3.0  154643.94           6.0   \n",
      "11                  99.0      22.0     U        2.0   31662.52           0.0   \n",
      "15                 262.0      54.5     M        2.0   28457.96           2.0   \n",
      "20                  85.0      28.5     U        5.0  177062.14           5.0   \n",
      "...                  ...       ...   ...        ...        ...           ...   \n",
      "143365              70.0      57.5     U        2.0   38151.27           0.0   \n",
      "143370              52.0      60.0     U        2.0   77291.01           6.0   \n",
      "143378              82.0      36.0     U        2.0   53543.03           0.0   \n",
      "143395             602.0      61.5     F        2.0  149881.38           6.0   \n",
      "143407             189.0      38.0     F        2.0   30644.10           4.0   \n",
      "\n",
      "        logons_6_mnth age_class   tenure_class  \\\n",
      "0                 4.0     adult  long-standing   \n",
      "9                 9.0     adult         recent   \n",
      "11                3.0     adult  long-standing   \n",
      "15                5.0     adult  long-standing   \n",
      "20                8.0     adult  long-standing   \n",
      "...               ...       ...            ...   \n",
      "143365            3.0     adult         recent   \n",
      "143370            9.0    senior         recent   \n",
      "143378            3.0     adult         recent   \n",
      "143395            9.0    senior  long-standing   \n",
      "143407            7.0     adult  long-standing   \n",
      "\n",
      "                                                       id  \n",
      "0       1028_42237450_62128060588_557292053_8723943831...  \n",
      "9       1104_194240915_18158000533_543158812_463954765...  \n",
      "11      1186_446844663_31615102958_507052512_113093701...  \n",
      "15      1195_766842522_69992551638_393817425_390152784...  \n",
      "20      1197_753759429_54481946928_71862471_2120228542...  \n",
      "...                                                   ...  \n",
      "143365  9997125_435478449_41974372268_983995660_119383...  \n",
      "143370  9997391_494669706_3354361161_84654768_90613632...  \n",
      "143378  9997470_395791369_55562604618_761490147_963525...  \n",
      "143395  9998346_292425655_16607136645_189177304_698694...  \n",
      "143407  9998921_960034051_85687824805_378424178_595659...  \n",
      "\n",
      "[23526 rows x 17 columns]\n"
     ]
    },
    {
     "name": "stderr",
     "output_type": "stream",
     "text": [
      "/var/folders/m4/f8dr8zj14vzfrxjhfypvc0400000gn/T/ipykernel_36246/2941927402.py:1: SettingWithCopyWarning: \n",
      "A value is trying to be set on a copy of a slice from a DataFrame.\n",
      "Try using .loc[row_indexer,col_indexer] = value instead\n",
      "\n",
      "See the caveats in the documentation: https://pandas.pydata.org/pandas-docs/stable/user_guide/indexing.html#returning-a-view-versus-a-copy\n",
      "  df_id_control_group['id'] = df_id_control_group.apply(lambda row: '_'.join(map(str, [row['client_id'], row['visitor_id'], row['visit_id']])), axis=1)\n"
     ]
    }
   ],
   "source": [
    "df_id_control_group['id'] = df_id_control_group.apply(lambda row: '_'.join(map(str, [row['client_id'], row['visitor_id'], row['visit_id']])), axis=1)\n",
    "print(df_id_control_group)"
   ]
  },
  {
   "cell_type": "code",
   "execution_count": 55,
   "id": "38f9848e-7298-43b9-8d27-603c35882354",
   "metadata": {},
   "outputs": [
    {
     "name": "stdout",
     "output_type": "stream",
     "text": [
      "Rate of clients from the test group that reached the step 'confirm': 14.46%\n",
      "Rate of clients from the control group that reached the step 'confirm': 12.20%\n"
     ]
    }
   ],
   "source": [
    "# Performance Metrics:\n",
    "# Completion Rate\n",
    "\n",
    "total_test_clients = len(test_group_sorted)\n",
    "confirm_test_clients = len(test_group_sorted[test_group_sorted['process_step'] == 'confirm'])\n",
    "confirm_test_rate = confirm_test_clients / total_test_clients\n",
    "print(\"Rate of clients from the test group that reached the step 'confirm': {:.2%}\".format(confirm_test_rate))\n",
    "\n",
    "total_control_clients = len(control_group_sorted)\n",
    "confirm_control_clients = len(control_group_sorted[control_group_sorted['process_step'] == 'confirm'])\n",
    "confirm_control_rate = confirm_control_clients / total_control_clients\n",
    "print(\"Rate of clients from the control group that reached the step 'confirm': {:.2%}\".format(confirm_control_rate))"
   ]
  },
  {
   "cell_type": "code",
   "execution_count": 56,
   "id": "3445f0e2-c786-4ecb-abf5-26d612602bcb",
   "metadata": {},
   "outputs": [
    {
     "name": "stdout",
     "output_type": "stream",
     "text": [
      "        client_id             visitor_id                      visit_id  \\\n",
      "0             555  402506806_56087378777  637149525_38041617439_716659   \n",
      "1             555  402506806_56087378777  637149525_38041617439_716659   \n",
      "2             555  402506806_56087378777  637149525_38041617439_716659   \n",
      "3             555  402506806_56087378777  637149525_38041617439_716659   \n",
      "4             555  402506806_56087378777  637149525_38041617439_716659   \n",
      "...           ...                    ...                           ...   \n",
      "177782    9999729  843385170_36953471821   493310979_9209676464_421146   \n",
      "177783    9999729  843385170_36953471821   493310979_9209676464_421146   \n",
      "177784    9999729  843385170_36953471821   493310979_9209676464_421146   \n",
      "177785    9999832  145538019_54444341400  472154369_16714624241_585315   \n",
      "177786    9999832  145538019_54444341400  472154369_16714624241_585315   \n",
      "\n",
      "       process_step            date_time Variation  clnt_tenure_yr  \\\n",
      "0           confirm  2017-04-15 13:00:34      Test             3.0   \n",
      "1             start  2017-04-15 12:57:56      Test             3.0   \n",
      "2            step_1  2017-04-15 12:58:03      Test             3.0   \n",
      "3            step_2  2017-04-15 12:58:35      Test             3.0   \n",
      "4            step_3  2017-04-15 13:00:14      Test             3.0   \n",
      "...             ...                  ...       ...             ...   \n",
      "177782        start  2017-04-20 14:28:57      Test            10.0   \n",
      "177783       step_1  2017-04-20 14:22:49      Test            10.0   \n",
      "177784       step_2  2017-04-20 14:27:36      Test            10.0   \n",
      "177785        start  2017-05-16 16:46:03      Test            23.0   \n",
      "177786       step_1  2017-05-16 16:46:11      Test            23.0   \n",
      "\n",
      "        clnt_tenure_mnth  clnt_age gendr  num_accts        bal  calls_6_mnth  \\\n",
      "0                   46.0      29.5     U        2.0   25454.66           2.0   \n",
      "1                   46.0      29.5     U        2.0   25454.66           2.0   \n",
      "2                   46.0      29.5     U        2.0   25454.66           2.0   \n",
      "3                   46.0      29.5     U        2.0   25454.66           2.0   \n",
      "4                   46.0      29.5     U        2.0   25454.66           2.0   \n",
      "...                  ...       ...   ...        ...        ...           ...   \n",
      "177782             124.0      31.0     F        3.0  107059.74           6.0   \n",
      "177783             124.0      31.0     F        3.0  107059.74           6.0   \n",
      "177784             124.0      31.0     F        3.0  107059.74           6.0   \n",
      "177785             281.0      49.0     F        2.0  431887.61           1.0   \n",
      "177786             281.0      49.0     F        2.0  431887.61           1.0   \n",
      "\n",
      "        logons_6_mnth                                                 id  \n",
      "0                 6.0  555_402506806_56087378777_637149525_3804161743...  \n",
      "1                 6.0  555_402506806_56087378777_637149525_3804161743...  \n",
      "2                 6.0  555_402506806_56087378777_637149525_3804161743...  \n",
      "3                 6.0  555_402506806_56087378777_637149525_3804161743...  \n",
      "4                 6.0  555_402506806_56087378777_637149525_3804161743...  \n",
      "...               ...                                                ...  \n",
      "177782            9.0  9999729_843385170_36953471821_493310979_920967...  \n",
      "177783            9.0  9999729_843385170_36953471821_493310979_920967...  \n",
      "177784            9.0  9999729_843385170_36953471821_493310979_920967...  \n",
      "177785            4.0  9999832_145538019_54444341400_472154369_167146...  \n",
      "177786            4.0  9999832_145538019_54444341400_472154369_167146...  \n",
      "\n",
      "[177787 rows x 15 columns]\n"
     ]
    }
   ],
   "source": [
    "test_group_sorted['id'] = test_group_sorted.apply(lambda row: '_'.join(map(str, [row['client_id'], row['visitor_id'], row['visit_id']])), \n",
    "                                                  axis=1)\n",
    "print(test_group_sorted)"
   ]
  },
  {
   "cell_type": "code",
   "execution_count": 57,
   "id": "f4ffb688-63a3-496e-8526-c16b27bb4a14",
   "metadata": {},
   "outputs": [
    {
     "name": "stdout",
     "output_type": "stream",
     "text": [
      "        client_id             visitor_id                      visit_id  \\\n",
      "0            1028   42237450_62128060588  557292053_87239438319_391157   \n",
      "1            1028   42237450_62128060588  557292053_87239438319_391157   \n",
      "2            1028   42237450_62128060588  557292053_87239438319_391157   \n",
      "3            1028   42237450_62128060588  557292053_87239438319_391157   \n",
      "4            1028   42237450_62128060588  557292053_87239438319_391157   \n",
      "...           ...                    ...                           ...   \n",
      "143403    9998346  292425655_16607136645  189177304_69869411700_783154   \n",
      "143404    9998346  292425655_16607136645  189177304_69869411700_783154   \n",
      "143405    9998346  292425655_16607136645  189177304_69869411700_783154   \n",
      "143406    9998346  292425655_16607136645  189177304_69869411700_783154   \n",
      "143407    9998921  960034051_85687824805    378424178_59565976155_8051   \n",
      "\n",
      "       process_step            date_time Variation  clnt_tenure_yr  \\\n",
      "0             start  2017-04-08 18:51:28   Control            12.0   \n",
      "1            step_1  2017-04-08 18:52:17   Control            12.0   \n",
      "2            step_1  2017-04-08 18:53:20   Control            12.0   \n",
      "3            step_1  2017-04-08 18:59:55   Control            12.0   \n",
      "4            step_1  2017-04-08 19:00:15   Control            12.0   \n",
      "...             ...                  ...       ...             ...   \n",
      "143403       step_3  2017-03-29 15:28:00   Control            50.0   \n",
      "143404       step_3  2017-03-29 15:30:25   Control            50.0   \n",
      "143405       step_3  2017-03-29 15:37:28   Control            50.0   \n",
      "143406       step_3  2017-03-29 15:37:28   Control            50.0   \n",
      "143407        start  2017-04-18 11:26:31   Control            15.0   \n",
      "\n",
      "        clnt_tenure_mnth  clnt_age gendr  num_accts        bal  calls_6_mnth  \\\n",
      "0                  145.0      36.0     M        3.0  103520.22           1.0   \n",
      "1                  145.0      36.0     M        3.0  103520.22           1.0   \n",
      "2                  145.0      36.0     M        3.0  103520.22           1.0   \n",
      "3                  145.0      36.0     M        3.0  103520.22           1.0   \n",
      "4                  145.0      36.0     M        3.0  103520.22           1.0   \n",
      "...                  ...       ...   ...        ...        ...           ...   \n",
      "143403             602.0      61.5     F        2.0  149881.38           6.0   \n",
      "143404             602.0      61.5     F        2.0  149881.38           6.0   \n",
      "143405             602.0      61.5     F        2.0  149881.38           6.0   \n",
      "143406             602.0      61.5     F        2.0  149881.38           6.0   \n",
      "143407             189.0      38.0     F        2.0   30644.10           4.0   \n",
      "\n",
      "        logons_6_mnth                                                 id  \n",
      "0                 4.0  1028_42237450_62128060588_557292053_8723943831...  \n",
      "1                 4.0  1028_42237450_62128060588_557292053_8723943831...  \n",
      "2                 4.0  1028_42237450_62128060588_557292053_8723943831...  \n",
      "3                 4.0  1028_42237450_62128060588_557292053_8723943831...  \n",
      "4                 4.0  1028_42237450_62128060588_557292053_8723943831...  \n",
      "...               ...                                                ...  \n",
      "143403            9.0  9998346_292425655_16607136645_189177304_698694...  \n",
      "143404            9.0  9998346_292425655_16607136645_189177304_698694...  \n",
      "143405            9.0  9998346_292425655_16607136645_189177304_698694...  \n",
      "143406            9.0  9998346_292425655_16607136645_189177304_698694...  \n",
      "143407            7.0  9998921_960034051_85687824805_378424178_595659...  \n",
      "\n",
      "[143408 rows x 15 columns]\n"
     ]
    }
   ],
   "source": [
    "control_group_sorted['id'] = control_group_sorted.apply(lambda row: '_'.join(map(str, [row['client_id'], row['visitor_id'], row['visit_id']])), \n",
    "                                                        axis=1)\n",
    "print(control_group_sorted)"
   ]
  },
  {
   "cell_type": "code",
   "execution_count": 60,
   "id": "b2cce439-be80-468d-bd3d-1aeb9b3ce3dd",
   "metadata": {},
   "outputs": [
    {
     "name": "stderr",
     "output_type": "stream",
     "text": [
      "/var/folders/m4/f8dr8zj14vzfrxjhfypvc0400000gn/T/ipykernel_36246/103934727.py:3: DeprecationWarning: DataFrameGroupBy.apply operated on the grouping columns. This behavior is deprecated, and in a future version of pandas the grouping columns will be excluded from the operation. Either pass `include_groups=False` to exclude the groupings or explicitly select the grouping columns after groupby to silence this warning.\n",
      "  test_group_filtered = test_group_sorted.groupby('client_id').apply(lambda x: x.drop_duplicates('process_step', keep='last'))\n",
      "/var/folders/m4/f8dr8zj14vzfrxjhfypvc0400000gn/T/ipykernel_36246/103934727.py:6: DeprecationWarning: DataFrameGroupBy.apply operated on the grouping columns. This behavior is deprecated, and in a future version of pandas the grouping columns will be excluded from the operation. Either pass `include_groups=False` to exclude the groupings or explicitly select the grouping columns after groupby to silence this warning.\n",
      "  control_group_filtered = control_group_sorted.groupby('client_id').apply(lambda x: x.drop_duplicates('process_step', keep='last'))\n"
     ]
    }
   ],
   "source": [
    "# Dropping multiple starts and confirms\n",
    "\n",
    "test_group_filtered = test_group_sorted.groupby('client_id').apply(lambda x: x.drop_duplicates('process_step', keep='last'))\n",
    "test_group_filtered.reset_index(drop=True, inplace=True)\n",
    "\n",
    "control_group_filtered = control_group_sorted.groupby('client_id').apply(lambda x: x.drop_duplicates('process_step', keep='last'))\n",
    "control_group_filtered.reset_index(drop=True, inplace=True)"
   ]
  },
  {
   "cell_type": "code",
   "execution_count": 76,
   "id": "8162fdb4-a224-42aa-8722-420447ad459f",
   "metadata": {},
   "outputs": [
    {
     "name": "stderr",
     "output_type": "stream",
     "text": [
      "/var/folders/m4/f8dr8zj14vzfrxjhfypvc0400000gn/T/ipykernel_36246/565091035.py:18: DeprecationWarning: DataFrameGroupBy.apply operated on the grouping columns. This behavior is deprecated, and in a future version of pandas the grouping columns will be excluded from the operation. Either pass `include_groups=False` to exclude the groupings or explicitly select the grouping columns after groupby to silence this warning.\n",
      "  test_group_time_spent = test_group_filtered.groupby('client_id').apply(calculate_time_spent).reset_index(drop=True)\n"
     ]
    },
    {
     "name": "stdout",
     "output_type": "stream",
     "text": [
      "Average Time Spent on Each Step for the Test Group:\n",
      "process_step\n",
      "confirm   0 days 19:34:53.638185008\n",
      "step_1    0 days 02:44:01.880115885\n",
      "step_2    0 days 07:31:49.593544701\n",
      "step_3    0 days 06:09:36.400171379\n",
      "Name: time_spent, dtype: timedelta64[ns]\n",
      "\n",
      "Average Time Spent on Each Step for the Control Group:\n",
      "process_step\n",
      "confirm   0 days 17:49:26.247813843\n",
      "step_1    0 days 05:22:52.422014722\n",
      "step_2    0 days 05:11:26.144261647\n",
      "step_3    0 days 06:24:35.342720221\n",
      "Name: time_spent, dtype: timedelta64[ns]\n"
     ]
    },
    {
     "name": "stderr",
     "output_type": "stream",
     "text": [
      "/var/folders/m4/f8dr8zj14vzfrxjhfypvc0400000gn/T/ipykernel_36246/565091035.py:21: DeprecationWarning: DataFrameGroupBy.apply operated on the grouping columns. This behavior is deprecated, and in a future version of pandas the grouping columns will be excluded from the operation. Either pass `include_groups=False` to exclude the groupings or explicitly select the grouping columns after groupby to silence this warning.\n",
      "  control_group_time_spent = control_group_filtered.groupby('client_id').apply(calculate_time_spent).reset_index(drop=True)\n"
     ]
    }
   ],
   "source": [
    "# Performance Metrics:\n",
    "# Time Spent on Each Step\n",
    "\n",
    "def calculate_time_spent(df):\n",
    "    df['timestamp'] = pd.to_datetime(df['timestamp'])\n",
    "    df.sort_values(by=['client_id', 'timestamp'], inplace=True)\n",
    "    df['time_spent'] = df.groupby('client_id')['timestamp'].diff().fillna(pd.Timedelta(seconds=0))\n",
    "    return df\n",
    "\n",
    "test_group_filtered.reset_index(drop=True, inplace=True)\n",
    "control_group_filtered.reset_index(drop=True, inplace=True)\n",
    "\n",
    "test_group_time_spent = test_group_filtered.groupby('client_id').apply(calculate_time_spent).reset_index(drop=True)\n",
    "control_group_time_spent = control_group_filtered.groupby('client_id').apply(calculate_time_spent).reset_index(drop=True)\n",
    "\n",
    "test_group_time_per_step = test_group_time_spent.groupby('process_step')['time_spent'].sum()\n",
    "control_group_time_per_step = control_group_time_spent.groupby('process_step')['time_spent'].sum()\n",
    "\n",
    "num_clients_test = test_group_time_spent['client_id'].nunique()\n",
    "num_clients_control = control_group_time_spent['client_id'].nunique()\n",
    "\n",
    "average_time_per_step_test = test_group_time_per_step / num_clients_test\n",
    "average_time_per_step_control = control_group_time_per_step / num_clients_control\n",
    "\n",
    "print(\"Average Time Spent on Each Step for the Test Group:\")\n",
    "print(average_time_per_step_test)\n",
    "\n",
    "print(\"\\nAverage Time Spent on Each Step for the Control Group:\")\n",
    "print(average_time_per_step_control)"
   ]
  },
  {
   "cell_type": "code",
   "execution_count": 77,
   "id": "1db4defb-f7dd-4c02-be51-9bfef32a5e35",
   "metadata": {},
   "outputs": [
    {
     "name": "stdout",
     "output_type": "stream",
     "text": [
      "Error Rate for the test group: 0.0\n",
      "Error Rate for the control group: 0.0\n"
     ]
    },
    {
     "name": "stderr",
     "output_type": "stream",
     "text": [
      "/var/folders/m4/f8dr8zj14vzfrxjhfypvc0400000gn/T/ipykernel_36246/1500374403.py:10: SettingWithCopyWarning: \n",
      "A value is trying to be set on a copy of a slice from a DataFrame.\n",
      "Try using .loc[row_indexer,col_indexer] = value instead\n",
      "\n",
      "See the caveats in the documentation: https://pandas.pydata.org/pandas-docs/stable/user_guide/indexing.html#returning-a-view-versus-a-copy\n",
      "  control_group_filtered['is_error'] = control_group_filtered['process_step'].lt(control_group_filtered.groupby(control_group_filtered.index)['process_step'].shift().fillna(''))\n"
     ]
    }
   ],
   "source": [
    "# Performance Metrics:\n",
    "# Error Rates\n",
    "\n",
    "test_group_filtered.reset_index(drop=True, inplace=True)\n",
    "control_group_filtered.reset_index(drop=True, inplace=True)\n",
    "\n",
    "test_group_filtered['is_error'] = test_group_filtered['process_step'].lt(test_group_filtered.groupby(test_group_filtered.index)['process_step'].shift().fillna(''))\n",
    "test_error_rate = (test_group_filtered.groupby(test_group_filtered.index)['is_error'].sum() > 0).mean()\n",
    "\n",
    "control_group_filtered['is_error'] = control_group_filtered['process_step'].lt(control_group_filtered.groupby(control_group_filtered.index)['process_step'].shift().fillna(''))\n",
    "control_error_rate = (control_group_filtered.groupby(control_group_filtered.index)['is_error'].sum() > 0).mean()\n",
    "\n",
    "print(\"Error Rate for the test group:\", test_error_rate)\n",
    "print(\"Error Rate for the control group:\", control_error_rate)"
   ]
  },
  {
   "cell_type": "code",
   "execution_count": null,
   "id": "2ebcd003-7f09-45f6-9b69-d27d58a9d452",
   "metadata": {},
   "outputs": [],
   "source": [
    "# Conclusion\n",
    "# Based on the chosen KPIs, the new design does not performance that better compared to the old one. \n",
    "# The completion rate is only 2.26% higher, the time spent on each step is a bit higher, with the exception from the start until spet 1"
   ]
  },
  {
   "cell_type": "code",
   "execution_count": null,
   "id": "5fcd1ba0-2935-4d4a-bcca-1598f732631c",
   "metadata": {},
   "outputs": [],
   "source": [
    "# Null hypothesis: There is no difference in completion rates between the test and control groups\n",
    "# Alternative hypothesis: There is a difference in completion rates between the test and control groups"
   ]
  },
  {
   "cell_type": "code",
   "execution_count": 84,
   "id": "571d9b1a-49b0-41bb-8778-5d9857f09fcd",
   "metadata": {},
   "outputs": [
    {
     "name": "stdout",
     "output_type": "stream",
     "text": [
      "Completion Rate for the Test Group: 0.7623128085853021\n",
      "Completion Rate for the Control Group: 0.7622153055679067\n",
      "Fail to reject the null hypothesis. There is no statistically significant difference in completion rates.\n"
     ]
    }
   ],
   "source": [
    "from statsmodels.stats.proportion import proportions_ztest\n",
    "\n",
    "test_confirm_unique_ids = test_group_filtered[test_group_filtered['process_step'] == 'confirm']['client_id'].nunique()\n",
    "control_confirm_unique_ids = control_group_filtered[control_group_filtered['process_step'] == 'confirm']['client_id'].nunique()\n",
    "\n",
    "test_total_unique_ids = test_group_filtered['client_id'].nunique()\n",
    "control_total_unique_ids = control_group_filtered['client_id'].nunique()\n",
    "\n",
    "test_completion_rate_unique = test_confirm_unique_ids / test_total_unique_ids\n",
    "control_completion_rate_unique = control_confirm_unique_ids / control_total_unique_ids\n",
    "\n",
    "print(\"Completion Rate for the Test Group:\", test_completion_rate_unique)\n",
    "print(\"Completion Rate for the Control Group:\", control_completion_rate_unique)\n",
    "\n",
    "count = np.array([test_group_filtered['process_step'].eq('confirm').sum(), control_group_filtered['process_step'].eq('confirm').sum()])\n",
    "\n",
    "nobs = np.array([len(test_group_filtered), len(control_group_filtered)])\n",
    "\n",
    "z_stat, p_value = proportions_ztest(count, nobs)\n",
    "\n",
    "alpha = 0.05\n",
    "if p_value < alpha:\n",
    "    print(\"Reject the null hypothesis. There is a statistically significant difference in completion rates.\")\n",
    "else:\n",
    "    print(\"Fail to reject the null hypothesis. There is no statistically significant difference in completion rates.\")"
   ]
  },
  {
   "cell_type": "code",
   "execution_count": null,
   "id": "aadcc4d9-b1b5-4c8e-b1f8-642275847b30",
   "metadata": {},
   "outputs": [],
   "source": [
    "# Null hypothesis: Completion rate increase is less than 5%\n",
    "# Alternative hypothesis: Completion rate increase is greater than or equal to 5%"
   ]
  },
  {
   "cell_type": "code",
   "execution_count": 79,
   "id": "2b29bc72-5313-4dcf-9bd8-c7dc3ce0c9df",
   "metadata": {},
   "outputs": [
    {
     "name": "stdout",
     "output_type": "stream",
     "text": [
      "Observed completion rate increase does not meet the 5% threshold. The new design may not be cost-effective.\n"
     ]
    }
   ],
   "source": [
    "test_completion_rate = (test_group_filtered['process_step'] == 'confirm').mean()\n",
    "control_completion_rate = (control_group_filtered['process_step'] == 'confirm').mean()\n",
    "\n",
    "observed_completion_rate_increase = test_completion_rate - control_completion_rate\n",
    "\n",
    "threshold = 0.05  \n",
    "if observed_completion_rate_increase >= threshold:\n",
    "    print(\"Observed completion rate increase meets or exceeds the 5% threshold.\")\n",
    "else:\n",
    "    print(\"Observed completion rate increase does not meet the 5% threshold. The new design may not be cost-effective.\")"
   ]
  },
  {
   "cell_type": "code",
   "execution_count": 80,
   "id": "571b3811-a69b-4ece-9a6b-e38eceb58d98",
   "metadata": {},
   "outputs": [
    {
     "name": "stdout",
     "output_type": "stream",
     "text": [
      "Reject the null hypothesis. The average age of clients engaging with the new process is different from the old process.\n"
     ]
    }
   ],
   "source": [
    "from scipy.stats import ttest_ind\n",
    "\n",
    "test_age = test_group_filtered['clnt_age']  \n",
    "control_age = control_group_filtered['clnt_age']\n",
    "\n",
    "t_stat, p_value = ttest_ind(test_age, control_age)\n",
    "\n",
    "alpha = 0.05\n",
    "\n",
    "if p_value < alpha:\n",
    "    print(\"Reject the null hypothesis. The average age of clients engaging with the new process is different from the old process.\")\n",
    "else:\n",
    "    print(\"Fail to reject the null hypothesis. There is no evidence to suggest that the average age differs between the two processes.\")"
   ]
  },
  {
   "cell_type": "code",
   "execution_count": 81,
   "id": "de9932c3-8ba9-4b66-a7ab-9fc5475217fc",
   "metadata": {},
   "outputs": [
    {
     "data": {
      "text/plain": [
       "(46.989514348785875, 47.186901471368344)"
      ]
     },
     "execution_count": 81,
     "metadata": {},
     "output_type": "execute_result"
    }
   ],
   "source": [
    "avg_test_age = test_group_filtered['clnt_age'].mean()\n",
    "avg_control_age = control_group_filtered['clnt_age'].mean()\n",
    "\n",
    "avg_test_age, avg_control_age"
   ]
  },
  {
   "cell_type": "code",
   "execution_count": 82,
   "id": "4dbe776e-730d-4862-bd37-caa0949d4e6e",
   "metadata": {},
   "outputs": [
    {
     "name": "stdout",
     "output_type": "stream",
     "text": [
      "Reject the null hypothesis. The average client tenure of those engaging with the new process is different from the old process.\n"
     ]
    }
   ],
   "source": [
    "test_tenure = test_group_filtered['clnt_tenure_yr']  \n",
    "control_tenure = control_group_filtered['clnt_tenure_yr']\n",
    "\n",
    "t_stat, p_value = ttest_ind(test_tenure, control_tenure)\n",
    "\n",
    "alpha = 0.05\n",
    "\n",
    "if p_value < alpha:\n",
    "    print(\"Reject the null hypothesis. The average client tenure of those engaging with the new process is different from the old process.\")\n",
    "else:\n",
    "    print(\"Fail to reject the null hypothesis. There is no evidence to suggest that the average client tenure differs between the two processes.\")"
   ]
  },
  {
   "cell_type": "code",
   "execution_count": 83,
   "id": "d46aeb95-f358-4c1d-acf9-e50aa1dc6a6e",
   "metadata": {},
   "outputs": [
    {
     "name": "stdout",
     "output_type": "stream",
     "text": [
      "Fail to reject the null hypothesis for the test group. There is no significant association between gender and process variation.\n",
      "Fail to reject the null hypothesis for the control group. There is no significant association between gender and process variation.\n"
     ]
    }
   ],
   "source": [
    "from scipy.stats import chi2_contingency\n",
    "\n",
    "contingency_table_test = pd.crosstab(test_group_filtered['gendr'], test_group_filtered['Variation'])\n",
    "\n",
    "chi2_stat_test, p_val_test, dof_test, expected_test = chi2_contingency(contingency_table_test)\n",
    "\n",
    "contingency_table_control = pd.crosstab(control_group_filtered['gendr'], control_group_filtered['Variation'])\n",
    "\n",
    "chi2_stat_control, p_val_control, dof_control, expected_control = chi2_contingency(contingency_table_control)\n",
    "\n",
    "alpha = 0.05\n",
    "\n",
    "if p_val_test < alpha:\n",
    "    print(\"Reject the null hypothesis for the test group. There is a significant association between gender and process variation.\")\n",
    "else:\n",
    "    print(\"Fail to reject the null hypothesis for the test group. There is no significant association between gender and process variation.\")\n",
    "\n",
    "if p_val_control < alpha:\n",
    "    print(\"Reject the null hypothesis for the control group. There is a significant association between gender and process variation.\")\n",
    "else:\n",
    "    print(\"Fail to reject the null hypothesis for the control group. There is no significant association between gender and process variation.\")"
   ]
  },
  {
   "cell_type": "code",
   "execution_count": null,
   "id": "e79e7ff5-db6d-470a-b51f-c01cac1edbe3",
   "metadata": {},
   "outputs": [],
   "source": [
    "test_group_filtered.to_csv('../data/cleaned/test_group_filtered.csv')"
   ]
  },
  {
   "cell_type": "code",
   "execution_count": null,
   "id": "970828ec-94f1-42ce-a610-b601792ca41d",
   "metadata": {},
   "outputs": [],
   "source": [
    "control_group_filtered.to_csv('../data/cleaned/control_group_filtered.csv')"
   ]
  },
  {
   "cell_type": "code",
   "execution_count": null,
   "id": "b011d917-7fe5-4bd5-b235-d46f6716ca35",
   "metadata": {},
   "outputs": [],
   "source": []
  }
 ],
 "metadata": {
  "kernelspec": {
   "display_name": "pro_env",
   "language": "python",
   "name": "pro_env"
  },
  "language_info": {
   "codemirror_mode": {
    "name": "ipython",
    "version": 3
   },
   "file_extension": ".py",
   "mimetype": "text/x-python",
   "name": "python",
   "nbconvert_exporter": "python",
   "pygments_lexer": "ipython3",
   "version": "3.11.5"
  }
 },
 "nbformat": 4,
 "nbformat_minor": 5
}
